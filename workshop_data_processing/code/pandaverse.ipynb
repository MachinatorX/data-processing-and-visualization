{
 "cells": [
  {
   "cell_type": "markdown",
   "metadata": {},
   "source": [
    "In general, pandas has plenty going on for the split-apply-combine process of general data science.  While piping might be applicable, it may not be useful. I will bounce back and forth to demonstrate the examples, but likely won't demo all the ones in the tidyverse chapter.\n",
    "\n",
    "Refer to the [pandas doc](https://pandas.pydata.org/pandas-docs/stable/getting_started/comparison/comparison_with_r.html) comparison for quick reference.\n"
   ]
  },
  {
   "cell_type": "markdown",
   "metadata": {},
   "source": [
    "### Preliminaries"
   ]
  },
  {
   "cell_type": "code",
   "execution_count": null,
   "metadata": {},
   "outputs": [],
   "source": [
    "import pandas as pd\n",
    "import numpy as np\n",
    "\n",
    "# note that doing much with R in anaconda notebooks will fail at some point\n",
    "import rpy2.robjects as robjects\n",
    "from rpy2.robjects.packages import importr\n",
    "from rpy2.robjects import r, pandas2ri\n",
    "pandas2ri.activate()"
   ]
  },
  {
   "cell_type": "code",
   "execution_count": null,
   "metadata": {},
   "outputs": [],
   "source": [
    "## ----load_bball----------------------------------------------------------\n",
    "# load('data/bball.RData')\n",
    "# glimpse(bball[,1:5])\n",
    "\n",
    "robjects.r['load']('../data/bball.RData')\n",
    "bball = robjects.r.bball\n",
    "# bball = pd.read_csv('../data/bball.csv')\n",
    "bball.iloc[:, 1:5].info()"
   ]
  },
  {
   "cell_type": "code",
   "execution_count": null,
   "metadata": {},
   "outputs": [],
   "source": [
    "## ----select1-------------------------------------------------------------\n",
    "# bball %>% \n",
    "#   select(Player, Tm, Pos) %>% \n",
    "#   head\n",
    "\n",
    "(bball\n",
    " .loc[:,['Player', 'Tm', 'Pos']]\n",
    " .head()\n",
    ")\n",
    "\n",
    "# or\n",
    "(bball[['Player', 'Tm', 'Pos']]\n",
    " .head()\n",
    ")\n"
   ]
  },
  {
   "cell_type": "code",
   "execution_count": null,
   "metadata": {},
   "outputs": [],
   "source": [
    "## ----select2-------------------------------------------------------------\n",
    "# bball %>%     \n",
    "#   select(-Player, -Tm, -Pos)  %>% \n",
    "#   head\n",
    "\n",
    "(bball\n",
    " .drop(columns=['Player', 'Tm', 'Pos'])\n",
    " .head()\n",
    ")"
   ]
  },
  {
   "cell_type": "markdown",
   "metadata": {},
   "source": [
    "The following example uses tidyverse helper functions, which are available as basic string functions in Python (e.g. str.contains), but I haven't found how to implement them as cleanly in the pandaverse (e.g. using filter or query). "
   ]
  },
  {
   "cell_type": "code",
   "execution_count": null,
   "metadata": {},
   "outputs": [],
   "source": [
    "## ----select3-------------------------------------------------------------\n",
    "# bball %>% \n",
    "#   select(Player, contains(\"3P\"), ends_with(\"RB\")) %>% \n",
    "#   arrange(desc(TRB)) %>% \n",
    "#   head\n",
    "\n",
    "(bball\n",
    " .filter(regex = '3P|RB$', axis = 'columns')  # columns is the default\n",
    " .sort_values(by = 'TRB', ascending = False)\n",
    " .head()\n",
    ")\n",
    "\n",
    "# looks funny because we haven't filtered out the repeated headers yet"
   ]
  },
  {
   "cell_type": "markdown",
   "metadata": {},
   "source": [
    "### Filtering Rows"
   ]
  },
  {
   "cell_type": "code",
   "execution_count": null,
   "metadata": {},
   "outputs": [],
   "source": [
    "## ----filter0-------------------------------------------------------------\n",
    "# bball = bball %>% \n",
    "#   filter(Rk != \"Rk\")\n",
    "\n",
    "bball = (bball\n",
    "         .query('Rk != \"Rk\"')\n",
    "         .apply(pd.to_numeric, errors = 'ignore')\n",
    "        )\n",
    "\n",
    "# redo previous\n",
    "(bball\n",
    " .filter(regex = '3P|RB$', axis = 'columns')  # columns is the default\n",
    " .sort_values(by = 'TRB', ascending = False)\n",
    " .head()\n",
    ")"
   ]
  },
  {
   "cell_type": "code",
   "execution_count": null,
   "metadata": {},
   "outputs": [],
   "source": [
    "## ----filter1-------------------------------------------------------------\n",
    "# bball %>% \n",
    "#   filter(Age > 35, Pos == \"SF\" | Pos == \"PF\") %>% \n",
    "#   distinct(Player, Pos, Age)     \n",
    "\n",
    "(bball\n",
    " .query('Age > 35 & (Pos == \"SF\"| Pos == \"PF\")')\n",
    " .drop_duplicates(subset = ['Player', 'Pos', 'Age'])\n",
    ")"
   ]
  },
  {
   "cell_type": "code",
   "execution_count": null,
   "metadata": {},
   "outputs": [],
   "source": [
    "## ----filter2-------------------------------------------------------------\n",
    "# bball %>% \n",
    "#   slice(1:10)\n",
    "\n",
    "\n",
    "bball.iloc[:10]"
   ]
  },
  {
   "cell_type": "code",
   "execution_count": null,
   "metadata": {},
   "outputs": [],
   "source": [
    "## ----uniteFilterArrange--------------------------------------------------\n",
    "# bball %>% \n",
    "#   unite(\"posTeam\", Pos, Tm) %>%         # create a new variable\n",
    "#   filter(posTeam == \"PF_SAS\") %>%       # use it for filtering\n",
    "#   select(Player, posTeam, Age) %>%      # use it for selection\n",
    "#   arrange(desc(Age))                    # order \n",
    "\n",
    "(bball\n",
    " .assign(posTeam = bball.Pos + '_' + bball.Tm)\n",
    " .query('posTeam == \"PF_SAS\"')\n",
    " .loc[:, ['Player', 'posTeam', 'Age']]\n",
    " .sort_values(by = 'Age', ascending = False)\n",
    ")"
   ]
  },
  {
   "cell_type": "markdown",
   "metadata": {},
   "source": [
    "### Generating New Data"
   ]
  },
  {
   "cell_type": "code",
   "execution_count": null,
   "metadata": {},
   "outputs": [],
   "source": [
    "## ----mutateAt------------------------------------------------------------\n",
    "# bball = bball %>% \n",
    "#   mutate_at(vars(-Player, -Pos, -Tm), funs(as.numeric))   \n",
    "\n",
    "# glimpse(bball[,1:7])\n",
    "\n",
    "# we already did this in the first 'filtering rows' example\n"
   ]
  },
  {
   "cell_type": "code",
   "execution_count": null,
   "metadata": {},
   "outputs": [],
   "source": [
    "## ----mutate--------------------------------------------------------------\n",
    "# bball = bball %>% \n",
    "#   mutate(trueShooting = PTS / (2 * (FGA + (.44 * FTA))),\n",
    "#          effectiveFG = (FG + (.5 * X3P)) / FGA, \n",
    "#          shootingDif = trueShooting - FG.)\n",
    "\n",
    "# summary(select(bball, shootingDif))  # select and others don't have to be piped to use\n",
    "\n",
    "# slight issue due to there being a dot in the column name; but really this is not very satisfactory,\n",
    "# but using newly created variables is on the way https://github.com/pandas-dev/pandas/issues/14207\n",
    "# see also https://stackoverflow.com/questions/42496102/how-to-use-created-variable-in-same-assign-function-with-pandas\n",
    "bball = (bball\n",
    "         .assign(\n",
    "             trueShooting = bball.PTS / (2 * (bball.FGA + (.44 * bball.FTA))),\n",
    "             effectiveFG = (bball.FG + .5*bball.X3P) / bball.FGA)\n",
    "        )\n",
    "bball = bball.assign(shootingDif  = bball.trueShooting - bball.loc[:, 'FG.'])\n",
    "\n",
    "bball.shootingDif.describe()"
   ]
  },
  {
   "cell_type": "markdown",
   "metadata": {},
   "source": [
    "### Groupby"
   ]
  },
  {
   "cell_type": "code",
   "execution_count": null,
   "metadata": {
    "scrolled": true
   },
   "outputs": [],
   "source": [
    "## ----groupby-------------------------------------------------------------\n",
    "# bball %>%   \n",
    "#   mutate(trueShooting = PTS / (2 * (FGA + (.44 * FTA))),\n",
    "#          effectiveFG = (FG + (.5 * X3P)) / FGA, \n",
    "#          shootingDif = trueShooting - FG.) %>%  \n",
    "#   select(Player, Tm, Pos, MP, trueShooting, effectiveFG, PTS) %>% \n",
    "#   group_by(Pos) %>%                                                 \n",
    "#   summarize(meanTrueShooting = mean(trueShooting, na.rm = TRUE)) \n",
    "\n",
    "(bball\n",
    " .assign(\n",
    "     trueShooting = bball.PTS / (2 * (bball.FGA + (.44 * bball.FTA))),\n",
    "     effectiveFG  = (bball.FG + .5*bball.X3P) / bball.FGA,\n",
    "     shootingDif  = bball.trueShooting - bball.loc[:, 'FG.']\n",
    " )\n",
    " .loc[:, ['Player', 'Tm', 'Pos', 'MP', 'trueShooting', 'effectiveFG', 'PTS']]\n",
    " .groupby('Pos')\n",
    " .agg({'trueShooting': 'mean'})\n",
    " .rename(columns={'trueShooting': 'trueShooting_mean'})\n",
    ")"
   ]
  },
  {
   "cell_type": "code",
   "execution_count": null,
   "metadata": {},
   "outputs": [],
   "source": [
    "# I'm not currently aware of a do operation in pandas (nor have a good way to look it up). \n",
    "# However, I also find it somewhat awkward in the R implementation and rarely useful compared \n",
    "# to other approaches.\n",
    "\n",
    "## ----do------------------------------------------------------------------\n",
    "# bball %>% \n",
    "#   mutate(Pos = if_else(Pos=='PF-C', 'C', Pos)) %>% \n",
    "#   group_by(Pos) %>%     \n",
    "#   do(FgFt_Corr=cor(.$FG., .$FT., use='complete')) %>% \n",
    "#   unnest(FgFt_Corr)\n",
    "\n",
    "## ----do2-----------------------------------------------------------------\n",
    "# library(nycflights13)\n",
    "# carriers = group_by(flights, carrier)\n",
    "# group_size(carriers)\n",
    "\n",
    "# mods = do(carriers, model = lm(arr_delay ~ dep_time, data = .)) # reminder that data frames are lists\n",
    "# mods %>% \n",
    "#   summarize(rsq = summary(model)$r.squared) %>% \n",
    "\n",
    "#   head"
   ]
  },
  {
   "cell_type": "markdown",
   "metadata": {},
   "source": [
    "### Merge by id"
   ]
  },
  {
   "cell_type": "code",
   "execution_count": null,
   "metadata": {},
   "outputs": [],
   "source": [
    "## ----merge_demo\n",
    "# band_members = data_frame(Name = c('Seth', 'Francis', 'Bubba'),\n",
    "#                           Band = c('Com Truise', 'Pixies', 'The New Year'))\n",
    "# band_instruments = data_frame(Name = c('Seth', 'Francis', 'Bubba'),\n",
    "#                               Instrument = c('Synthesizer', 'Guitar', 'Guitar'))\n",
    "\n",
    "# band_members\n",
    "# band_instruments\n",
    "\n",
    "# left_join(band_members, band_instruments)\n",
    "\n",
    "band_members = pd.DataFrame({'Name' : ['Seth', 'Francis', 'Bubba'],\n",
    "                             'Band' : ['Com Truise', 'Pixies', 'The New Year']\n",
    "                            })\n",
    "band_instruments = pd.DataFrame({'Name' : ['Seth', 'Francis', 'Bubba'],\n",
    "                               'Instrument' : ['Synthesizer', 'Guitar', 'Guitar']\n",
    "                            })\n",
    "\n",
    "band_members\n",
    "band_instruments\n",
    "\n",
    "\n",
    "band_members.merge(band_instruments)\n",
    "\n",
    "# alternative\n",
    "# band_members = pd.DataFrame({'Band' : ['Com Truise', 'Pixies', 'The New Year']\n",
    "#                             }, index = ['Seth', 'Francis', 'Bubba'])\n",
    "# band_instruments = pd.DataFrame({'Instrument' : ['Synthesizer', 'Guitar', 'Guitar']}, \n",
    "#                                 index = ['Seth', 'Francis', 'Bubba'])\n",
    "# band_members.join(band_instruments, how='left')\n"
   ]
  },
  {
   "cell_type": "code",
   "execution_count": null,
   "metadata": {},
   "outputs": [],
   "source": [
    "## ----gather_spread-------------------------------------------------------\n",
    "# library(tidyr)\n",
    "# stocks <- data.frame( time = as.Date('2009-01-01') + 0:9,\n",
    "#                       X = rnorm(10, 0, 1),\n",
    "#                       Y = rnorm(10, 0, 2),\n",
    "#                       Z = rnorm(10, 0, 4) )\n",
    "# stocks %>% head\n",
    "# stocks %>% \n",
    "#   gather(stock, price, -time) %>% \n",
    "#   head\n",
    "\n",
    "## ----tidyrSpread---------------------------------------------------------\n",
    "# bball %>% \n",
    "#   separate(Player, into=c('firstName', 'lastName'), sep=' ') %>% \n",
    "#   select(1:5) %>% \n",
    "#   head\n",
    "\n",
    "stocks = pd.DataFrame({\n",
    "    'time' : pd.date_range('2009-01-01', periods=10),\n",
    "    'X' : np.random.randn(10),\n",
    "    'Y' : np.random.normal(0, 2, 10),\n",
    "    'Z' : np.random.normal(0, 4, 10)\n",
    "})\n",
    "\n",
    "stocks.head()"
   ]
  },
  {
   "cell_type": "code",
   "execution_count": null,
   "metadata": {},
   "outputs": [],
   "source": [
    "stocks_melt = stocks.melt(id_vars='time') \n",
    "\n",
    "stocks_melt"
   ]
  },
  {
   "cell_type": "code",
   "execution_count": null,
   "metadata": {},
   "outputs": [],
   "source": [
    "stocks_melt.pivot(index='time', columns='variable')"
   ]
  },
  {
   "cell_type": "code",
   "execution_count": null,
   "metadata": {},
   "outputs": [],
   "source": []
  }
 ],
 "metadata": {
  "kernelspec": {
   "display_name": "Python 3",
   "language": "python",
   "name": "python3"
  },
  "language_info": {
   "codemirror_mode": {
    "name": "ipython",
    "version": 3
   },
   "file_extension": ".py",
   "mimetype": "text/x-python",
   "name": "python",
   "nbconvert_exporter": "python",
   "pygments_lexer": "ipython3",
   "version": "3.6.9"
  }
 },
 "nbformat": 4,
 "nbformat_minor": 2
}

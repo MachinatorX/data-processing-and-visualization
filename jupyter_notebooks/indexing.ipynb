{
 "cells": [
  {
   "cell_type": "code",
   "execution_count": null,
   "metadata": {},
   "outputs": [],
   "source": [
    "# Note to any one looking at this and coming from the R notes, Python utilizes 0 based indexing, \n",
    "# which means that things start with 0 instead of 1, unlike most other data science programming languages \n",
    "# (and regular human, as opposed to mathematical, experience). Also, when dealing with ranges, the last number \n",
    "# is left open, i.e. not included as part of the range (except for pandas). So if you want the first 10 things \n",
    "# (I'm using 'first' loosely), you'd need the range(0, 10), which would give you the zeroeth through 9th indices, \n",
    "# i.e. the first 10 elements. \n",
    "\n",
    "import string\n",
    "import numpy as np\n",
    "import pandas as pd\n",
    "\n",
    "letters_list = list(string.ascii_lowercase)\n",
    "letters_dict = {'a':1, 'b':2, 'c':3, 'd':4, 'e':5}\n",
    "letters = np.array(list(string.ascii_lowercase))\n"
   ]
  },
  {
   "cell_type": "code",
   "execution_count": null,
   "metadata": {},
   "outputs": [],
   "source": [
    "## ----vectorSlice, eval=TRUE----------------------------------------------\n",
    "letters[3:6]"
   ]
  },
  {
   "cell_type": "code",
   "execution_count": null,
   "metadata": {},
   "outputs": [],
   "source": [
    "letters[[12, 9, 2]]"
   ]
  },
  {
   "cell_type": "code",
   "execution_count": null,
   "metadata": {},
   "outputs": [],
   "source": [
    "## example ranges\n",
    "[i for i in (range(0,10))]  # or range(10)"
   ]
  },
  {
   "cell_type": "code",
   "execution_count": null,
   "metadata": {},
   "outputs": [],
   "source": [
    "np.arange(10)"
   ]
  },
  {
   "cell_type": "code",
   "execution_count": null,
   "metadata": {},
   "outputs": [],
   "source": [
    "myMatrix = np.arange(1, 13).reshape(3, 4)"
   ]
  },
  {
   "cell_type": "code",
   "execution_count": null,
   "metadata": {},
   "outputs": [],
   "source": [
    "mydf = pd.DataFrame({'a': [1, 5, 2],\n",
    "                     'b': [3, 8, 1]}, index=['row1', 'row2', 'row3'])"
   ]
  },
  {
   "cell_type": "code",
   "execution_count": null,
   "metadata": {},
   "outputs": [],
   "source": [
    "## ----matrixSlice---------------------------------------------------------\n",
    "myMatrix[0, 2:4]"
   ]
  },
  {
   "cell_type": "code",
   "execution_count": null,
   "metadata": {},
   "outputs": [],
   "source": [
    "## ----dfindexlabel--------------------------------------------------------\n",
    "mydf.loc['row1', 'b']"
   ]
  },
  {
   "cell_type": "code",
   "execution_count": null,
   "metadata": {},
   "outputs": [],
   "source": [
    "mydf.loc['row1':'row2', 'b']"
   ]
  },
  {
   "cell_type": "code",
   "execution_count": null,
   "metadata": {},
   "outputs": [],
   "source": [
    "## ----dfindexpos----------------------------------------------------------\n",
    "mydf.iloc[0, 1]"
   ]
  },
  {
   "cell_type": "code",
   "execution_count": null,
   "metadata": {
    "scrolled": true
   },
   "outputs": [],
   "source": [
    "## ----dfindexmix----------------------------------------------------------\n",
    "mydf.ix['row1', 1]  # deprecated due to reasons of 'user confusion', do by label for reproducibility anyway"
   ]
  },
  {
   "cell_type": "code",
   "execution_count": null,
   "metadata": {},
   "outputs": [],
   "source": [
    "## ----dfindexslice--------------------------------------------------------\n",
    "mydf.loc['row1', :]  # same as mydf.loc['row1']"
   ]
  },
  {
   "cell_type": "code",
   "execution_count": null,
   "metadata": {},
   "outputs": [],
   "source": [
    "mydf.loc[:, 'b']"
   ]
  },
  {
   "cell_type": "code",
   "execution_count": null,
   "metadata": {},
   "outputs": [],
   "source": [
    "## ----dfindexnoncont------------------------------------------------------\n",
    "mydf.iloc[[0, 2], :]"
   ]
  },
  {
   "cell_type": "code",
   "execution_count": null,
   "metadata": {},
   "outputs": [],
   "source": [
    "## ----dfindexbool---------------------------------------------------------\n",
    "mydf[lambda df: df.a >= 2]"
   ]
  },
  {
   "cell_type": "code",
   "execution_count": null,
   "metadata": {},
   "outputs": [],
   "source": [
    "## ----dflistslice---------------------------------------------------------\n",
    "## Note, pandas dataFrames are not lists, but you could get something similar by converting it to a dictionary via mydf.to_dict().  These examples will just regard a list/dict where noted.\n",
    "#my_list_or_df[2:4]\n",
    "letters_list[1:4]"
   ]
  },
  {
   "cell_type": "code",
   "execution_count": null,
   "metadata": {},
   "outputs": [],
   "source": [
    "## ----dflistextract-------------------------------------------------------\n",
    "letters_dict['d']   # dict"
   ]
  },
  {
   "cell_type": "code",
   "execution_count": null,
   "metadata": {},
   "outputs": [],
   "source": [
    "mydf['a']           # dataframe"
   ]
  },
  {
   "cell_type": "code",
   "execution_count": null,
   "metadata": {},
   "outputs": [],
   "source": [
    "## ----dflistextract2------------------------------------------------------\n",
    "mydf.a"
   ]
  },
  {
   "cell_type": "code",
   "execution_count": null,
   "metadata": {},
   "outputs": [],
   "source": [
    "letters_dict.pop('a')   # pop by name"
   ]
  },
  {
   "cell_type": "code",
   "execution_count": null,
   "metadata": {},
   "outputs": [],
   "source": [
    "## ------------------------------------------------------------------------\n",
    "mymatrix = np.matrix(np.random.normal(size=100)).reshape(10, 10)\n",
    "mydf = pd.read_csv('../data/cars.csv')\n",
    "my_matdf_list = {'thismat': mymatrix, 'thisdf': mydf}  # all have to be named"
   ]
  },
  {
   "cell_type": "code",
   "execution_count": null,
   "metadata": {},
   "outputs": [],
   "source": [
    "## ---- echo=F-------------------------------------------------------------\n",
    "mymatrix[0:5, ]"
   ]
  },
  {
   "cell_type": "code",
   "execution_count": null,
   "metadata": {},
   "outputs": [],
   "source": [
    "mymatrix[:, 0:5]"
   ]
  },
  {
   "cell_type": "code",
   "execution_count": null,
   "metadata": {},
   "outputs": [],
   "source": [
    "mymatrix[0, 1]"
   ]
  },
  {
   "cell_type": "code",
   "execution_count": null,
   "metadata": {},
   "outputs": [],
   "source": [
    "## ---- echo=F-------------------------------------------------------------\n",
    "mydf.disp"
   ]
  },
  {
   "cell_type": "code",
   "execution_count": null,
   "metadata": {},
   "outputs": [],
   "source": [
    "mydf.iloc[:,3]"
   ]
  },
  {
   "cell_type": "code",
   "execution_count": null,
   "metadata": {},
   "outputs": [],
   "source": [
    "mydf['disp']"
   ]
  },
  {
   "cell_type": "code",
   "execution_count": null,
   "metadata": {},
   "outputs": [],
   "source": [
    "## ---- echo=F-------------------------------------------------------------\n",
    "my_matdf_list.pop('thisdf')"
   ]
  },
  {
   "cell_type": "code",
   "execution_count": null,
   "metadata": {},
   "outputs": [],
   "source": []
  }
 ],
 "metadata": {
  "kernelspec": {
   "display_name": "Python 3",
   "language": "python",
   "name": "python3"
  },
  "language_info": {
   "codemirror_mode": {
    "name": "ipython",
    "version": 3
   },
   "file_extension": ".py",
   "mimetype": "text/x-python",
   "name": "python",
   "nbconvert_exporter": "python",
   "pygments_lexer": "ipython3",
   "version": "3.6.9"
  }
 },
 "nbformat": 4,
 "nbformat_minor": 2
}

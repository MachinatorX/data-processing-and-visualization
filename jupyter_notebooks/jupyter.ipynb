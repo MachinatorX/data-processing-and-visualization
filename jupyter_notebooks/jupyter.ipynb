{
 "cells": [
  {
   "cell_type": "markdown",
   "metadata": {},
   "source": [
    "This document is a Python exploration of these R-based documents: [here](https://m-clark.github.io/data-processing-and-visualization/getting_started.html) and [here](https://m-clark.github.io/data-processing-and-visualization/standard_documents.html).  In addition, all the content is located with the main document, not here, so some sections may not be included.  I only focus on reproducing the code chunks and providing some useful context. "
   ]
  },
  {
   "cell_type": "markdown",
   "metadata": {},
   "source": [
    "## Jupyter Notebooks"
   ]
  },
  {
   "cell_type": "markdown",
   "metadata": {},
   "source": [
    "The basic format for Python documents is a Jupyter notebook, which you are seeing here.  Obviously you can use it to display and run Python code, but that's just the start.  In order to do text manipulation and formatting, you'll need some other tools."
   ]
  },
  {
   "cell_type": "markdown",
   "metadata": {},
   "source": [
    "### What is Markdown?\n",
    "\n",
    "\n",
    "<img src=\"../img/Markdown-mark.svg\" style=\"display:block; margin: 0 auto;\" width=10%>\n",
    "\n",
    "<br>\n",
    "<br>"
   ]
  },
  {
   "cell_type": "markdown",
   "metadata": {},
   "source": [
    "**Markdown** is basically a syntax (a markup language) that conveys how text should be displayed. In practice, it allows you to use plain text for a document with bits of other things thrown in, but which will ultimately be converted to any number of other languages, especially HMTL, for eventual display in a format you desire.  \n",
    "\n",
    "The basic markdown syntax hasn't even really been developed for many years, but there are now dozens of *flavors*, of which R Markdown and GitHub-flavored Markdown are examples. Most Markdown syntax is preserved and works identically no matter what flavor you use.  However, the different flavors will have different options or slightly different implementations of certain things.  The main point is knowing one flavor means you know some Markdown, and thus would easily work with others. "
   ]
  },
  {
   "cell_type": "markdown",
   "metadata": {},
   "source": [
    "#### Markdown & Text\n",
    "\n",
    "Adding Markdown to your document is easy.  There are a couple things you'll use frequently though.\n",
    "\n",
    "- Headings/Subheadings: Specified #, ##, ### etc.\n",
    "- Italics & bold:  \\**word*\\* for italics \\*\\***word**\\*\\* for bold.  You can also use underscores (some Markdown flavors may require it).\n",
    "- Links: `[some_text](http://webaddress.com)`\n",
    "- Image: `![alt-text](img_location)`\n",
    "- Lists: Start with a dash or number, and make sure the first element is separated from any preceding text by a full blank line. Then separate each element by a line.\n",
    "- Code: \\`code stuff\\` (not run, just displayed differently)\n",
    "\n",
    "```\n",
    "Some *text*.\n",
    "\n",
    "- List item 1\n",
    "- List item 2\n",
    "\n",
    "1. item #1\n",
    "2. item #2\n",
    "```\n",
    "\n",
    "That will pretty much cover most of your basic text needs. "
   ]
  },
  {
   "cell_type": "markdown",
   "metadata": {},
   "source": [
    "### HTML"
   ]
  },
  {
   "cell_type": "markdown",
   "metadata": {},
   "source": [
    "For those that know HTML & CSS, you can use those throughout the text as you desire as well.  For example, sometimes I need some extra space after a plot and will put in a `<br>`.  The above markdown logo was centered via `<img>`.  You don't have to know much to help your document out quite a bit."
   ]
  },
  {
   "cell_type": "markdown",
   "metadata": {},
   "source": [
    "### $\\LaTeX$"
   ]
  },
  {
   "cell_type": "markdown",
   "metadata": {},
   "source": [
    "If you do any mathematical presentation, you'll need to know some of the $\\LaTeX$ syntax (though for the web it's usually done through tools like MathJax or similar). Here is some $\\LaTeX$ code to note a regression model."
   ]
  },
  {
   "cell_type": "markdown",
   "metadata": {},
   "source": [
    "```\n",
    "$$ y \\sim X\\beta + \\epsilon $$\n",
    "```"
   ]
  },
  {
   "cell_type": "markdown",
   "metadata": {},
   "source": [
    "Which would produce the following."
   ]
  },
  {
   "cell_type": "markdown",
   "metadata": {},
   "source": [
    "$$ y \\sim X\\beta + \\epsilon $$"
   ]
  },
  {
   "cell_type": "markdown",
   "metadata": {},
   "source": [
    "If you start using it at all, you'll get the hang of common stuff, but you also might want it just for some inline Greek characters ($\\alpha$) or other stuff. "
   ]
  },
  {
   "cell_type": "markdown",
   "metadata": {},
   "source": [
    "### Cells"
   ]
  },
  {
   "cell_type": "markdown",
   "metadata": {},
   "source": [
    "In Jupyter, you always working with cells, whether they are text or code cells (the latter are called chunks in the R Markdown world).  The main thing to get more proficient is to know a couple handy shortcuts, enabling you to jump around as you see fit.  These may not be consistent across operating system or implementation, but in general should be okay."
   ]
  },
  {
   "cell_type": "markdown",
   "metadata": {},
   "source": [
    "To start we can think of **edit mode**, where you actually type something in a cell, or command mode/cell selction, where you just have a cell selected, and you get to via mouse click or hitting escape while in edit mode."
   ]
  },
  {
   "cell_type": "markdown",
   "metadata": {},
   "source": [
    "- **Y** change the cell type to Code\n",
    "- **M** change the cell type to Markdown\n",
    "- **Enter**  edit mode\n",
    "- **Up/Down** select cell above/below\n",
    "- **Shift + Up/Down** extend selected cells above/below\n",
    "- **A** insert cell above\n",
    "- **B** insert cell below\n",
    "- **D D** delete selected cells\n",
    "- **Z** undo cell deletion\n"
   ]
  },
  {
   "cell_type": "markdown",
   "metadata": {},
   "source": [
    "Many other standard keyboard shortcuts (e.g. saving, cut and paste) are available to use as well.  Depending on your notebook implementation, you may end up with a lot of flexiblity, but in any case you are always able to customize it further."
   ]
  },
  {
   "cell_type": "markdown",
   "metadata": {},
   "source": [
    "### Customization & Configuration\n",
    "\n",
    "Beyond the above, one can get into HTML, CSS, JavaScript and other approaches to potentially customize the look and feel of your notebook.  "
   ]
  },
  {
   "cell_type": "markdown",
   "metadata": {},
   "source": [
    "### Beyond the Notebook"
   ]
  },
  {
   "cell_type": "markdown",
   "metadata": {},
   "source": [
    "Beyond the notebook format, I don't find it as easy to customize Jupyter notebooks as it is the standard R Markdown HTML document and other formats (e.g. slides, bookdown, interactive web, etc.), which is probably why most of the Jupyter notebooks you come across look exactly the same.  With R, one or two clicks in RStudio, or a couple knitr/YAML option adjustments, can make the final product for a basic HTML document look notably different. For Jupyter, one would need various extensions, terminal scripting, or would have to directly manipulate html/css.  None of this is necessarily a deal-breaker, but most probably would prefer a more straightforward way to change the look.\n"
   ]
  },
  {
   "cell_type": "markdown",
   "metadata": {},
   "source": [
    "## Jupyter Exercises\n",
    "\n",
    "\n",
    "\n",
    "### Exercise 0\n",
    "\n",
    "\n",
    "- Create a Jupyter notebook.  With jupyter installed you can just do `jupyter notebook` at the terminal/command line.\n",
    "\n",
    "### Exercise 1\n",
    "\n",
    "- Add a code cell that imports modules, e.g. pandas and numpy, and add another cell that describes a data set or matrix in some fashion.\n",
    "\n",
    "- Add a cell that produces a visualization. \n",
    "\n",
    "\n",
    "\n",
    "### Exercise 2\n",
    "\n",
    "- Italicize or bold some words.\n",
    "- Add a hyperlink.\n",
    "- Add a line break via HTML. Compare that to what happens when you simply put several line returns.\n"
   ]
  }
 ],
 "metadata": {
  "kernelspec": {
   "display_name": "Python 3",
   "language": "python",
   "name": "python3"
  },
  "language_info": {
   "codemirror_mode": {
    "name": "ipython",
    "version": 3
   },
   "file_extension": ".py",
   "mimetype": "text/x-python",
   "name": "python",
   "nbconvert_exporter": "python",
   "pygments_lexer": "ipython3",
   "version": "3.7.7"
  }
 },
 "nbformat": 4,
 "nbformat_minor": 4
}

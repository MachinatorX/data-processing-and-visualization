{
 "cells": [
  {
   "cell_type": "markdown",
   "metadata": {},
   "source": [
    "This document is a Python exploration of this R-based document: https://m-clark.github.io/data-processing-and-visualization/iterative.html.  Code is *not* optimized for anything but learning.  In addition, all the content is located with the main document, not here, so some sections may not be included.  I only focus on reproducing the code chunks."
   ]
  },
  {
   "cell_type": "markdown",
   "metadata": {},
   "source": [
    "## Iterative Programming"
   ]
  },
  {
   "cell_type": "markdown",
   "metadata": {},
   "source": [
    "Almost everything you do when dealing with data will need to be done again, and again, and again.  If you are copy-pasting your way to repetitively do the same thing, you're not only doing things inefficiently, you're almost certainly setting yourself up for trouble if anything changes about the data or underlying process.\n",
    "\n",
    "In order to avoid this, you need to be familiar with basic programming, and a starting point is to use an iterative approach to repetitive problems. "
   ]
  },
  {
   "cell_type": "code",
   "execution_count": 1,
   "metadata": {},
   "outputs": [],
   "source": [
    "import pandas as pd\n",
    "import numpy as np\n",
    "\n",
    "weather = pd.read_csv('../data/weather.csv')"
   ]
  },
  {
   "cell_type": "markdown",
   "metadata": {},
   "source": [
    "### For Loops"
   ]
  },
  {
   "cell_type": "markdown",
   "metadata": {},
   "source": [
    "This is the sort of thing we don't want."
   ]
  },
  {
   "cell_type": "code",
   "execution_count": 2,
   "metadata": {},
   "outputs": [
    {
     "data": {
      "text/plain": [
       "0.004469079073329505"
      ]
     },
     "execution_count": 2,
     "metadata": {},
     "output_type": "execute_result"
    }
   ],
   "source": [
    "np.mean(weather.humid)\n",
    "np.mean(weather.temp)\n",
    "np.mean(weather.wind_speed)\n",
    "np.mean(weather.precip)"
   ]
  },
  {
   "cell_type": "code",
   "execution_count": 3,
   "metadata": {},
   "outputs": [
    {
     "name": "stdout",
     "output_type": "stream",
     "text": [
      "temp    55.260392\n",
      "dtype: float64\n",
      "humid    62.530059\n",
      "dtype: float64\n",
      "wind_speed    10.517488\n",
      "dtype: float64\n",
      "precip    0.004469\n",
      "dtype: float64\n"
     ]
    }
   ],
   "source": [
    "for column in ['temp', 'humid', 'wind_speed', 'precip']: {\n",
    "  print(np.mean(weather[[column]]))\n",
    "}"
   ]
  },
  {
   "cell_type": "markdown",
   "metadata": {},
   "source": [
    "Now if the data name changes, the columns we want change, or we want to calculate something else, we usually end up only changing one thing, rather than *at least* changing one, and probably many more things.  In addition, the amount of code is the same whether the loop goes over 100 columns or 4.\n",
    "\n",
    "Let's do things a little differently.  The following will provide a usable result and is coded in the same fashion as the R example (not necessarily optimal)."
   ]
  },
  {
   "cell_type": "code",
   "execution_count": 4,
   "metadata": {},
   "outputs": [
    {
     "data": {
      "text/plain": [
       "\u001b[0;31mSignature:\u001b[0m \u001b[0mnp\u001b[0m\u001b[0;34m.\u001b[0m\u001b[0mmean\u001b[0m\u001b[0;34m(\u001b[0m\u001b[0ma\u001b[0m\u001b[0;34m,\u001b[0m \u001b[0maxis\u001b[0m\u001b[0;34m=\u001b[0m\u001b[0;32mNone\u001b[0m\u001b[0;34m,\u001b[0m \u001b[0mdtype\u001b[0m\u001b[0;34m=\u001b[0m\u001b[0;32mNone\u001b[0m\u001b[0;34m,\u001b[0m \u001b[0mout\u001b[0m\u001b[0;34m=\u001b[0m\u001b[0;32mNone\u001b[0m\u001b[0;34m,\u001b[0m \u001b[0mkeepdims\u001b[0m\u001b[0;34m=\u001b[0m\u001b[0;34m<\u001b[0m\u001b[0mno\u001b[0m \u001b[0mvalue\u001b[0m\u001b[0;34m>\u001b[0m\u001b[0;34m)\u001b[0m\u001b[0;34m\u001b[0m\u001b[0;34m\u001b[0m\u001b[0m\n",
       "\u001b[0;31mDocstring:\u001b[0m\n",
       "Compute the arithmetic mean along the specified axis.\n",
       "\n",
       "Returns the average of the array elements.  The average is taken over\n",
       "the flattened array by default, otherwise over the specified axis.\n",
       "`float64` intermediate and return values are used for integer inputs.\n",
       "\n",
       "Parameters\n",
       "----------\n",
       "a : array_like\n",
       "    Array containing numbers whose mean is desired. If `a` is not an\n",
       "    array, a conversion is attempted.\n",
       "axis : None or int or tuple of ints, optional\n",
       "    Axis or axes along which the means are computed. The default is to\n",
       "    compute the mean of the flattened array.\n",
       "\n",
       "    .. versionadded:: 1.7.0\n",
       "\n",
       "    If this is a tuple of ints, a mean is performed over multiple axes,\n",
       "    instead of a single axis or all the axes as before.\n",
       "dtype : data-type, optional\n",
       "    Type to use in computing the mean.  For integer inputs, the default\n",
       "    is `float64`; for floating point inputs, it is the same as the\n",
       "    input dtype.\n",
       "out : ndarray, optional\n",
       "    Alternate output array in which to place the result.  The default\n",
       "    is ``None``; if provided, it must have the same shape as the\n",
       "    expected output, but the type will be cast if necessary.\n",
       "    See `ufuncs-output-type` for more details.\n",
       "\n",
       "keepdims : bool, optional\n",
       "    If this is set to True, the axes which are reduced are left\n",
       "    in the result as dimensions with size one. With this option,\n",
       "    the result will broadcast correctly against the input array.\n",
       "\n",
       "    If the default value is passed, then `keepdims` will not be\n",
       "    passed through to the `mean` method of sub-classes of\n",
       "    `ndarray`, however any non-default value will be.  If the\n",
       "    sub-class' method does not implement `keepdims` any\n",
       "    exceptions will be raised.\n",
       "\n",
       "Returns\n",
       "-------\n",
       "m : ndarray, see dtype parameter above\n",
       "    If `out=None`, returns a new array containing the mean values,\n",
       "    otherwise a reference to the output array is returned.\n",
       "\n",
       "See Also\n",
       "--------\n",
       "average : Weighted average\n",
       "std, var, nanmean, nanstd, nanvar\n",
       "\n",
       "Notes\n",
       "-----\n",
       "The arithmetic mean is the sum of the elements along the axis divided\n",
       "by the number of elements.\n",
       "\n",
       "Note that for floating-point input, the mean is computed using the\n",
       "same precision the input has.  Depending on the input data, this can\n",
       "cause the results to be inaccurate, especially for `float32` (see\n",
       "example below).  Specifying a higher-precision accumulator using the\n",
       "`dtype` keyword can alleviate this issue.\n",
       "\n",
       "By default, `float16` results are computed using `float32` intermediates\n",
       "for extra precision.\n",
       "\n",
       "Examples\n",
       "--------\n",
       ">>> a = np.array([[1, 2], [3, 4]])\n",
       ">>> np.mean(a)\n",
       "2.5\n",
       ">>> np.mean(a, axis=0)\n",
       "array([2., 3.])\n",
       ">>> np.mean(a, axis=1)\n",
       "array([1.5, 3.5])\n",
       "\n",
       "In single precision, `mean` can be inaccurate:\n",
       "\n",
       ">>> a = np.zeros((2, 512*512), dtype=np.float32)\n",
       ">>> a[0, :] = 1.0\n",
       ">>> a[1, :] = 0.1\n",
       ">>> np.mean(a)\n",
       "0.54999924\n",
       "\n",
       "Computing the mean in float64 is more accurate:\n",
       "\n",
       ">>> np.mean(a, dtype=np.float64)\n",
       "0.55000000074505806 # may vary\n",
       "\u001b[0;31mFile:\u001b[0m      ~/anaconda3/lib/python3.7/site-packages/numpy/core/fromnumeric.py\n",
       "\u001b[0;31mType:\u001b[0m      function\n"
      ]
     },
     "metadata": {},
     "output_type": "display_data"
    }
   ],
   "source": [
    "?np.mean"
   ]
  },
  {
   "cell_type": "code",
   "execution_count": 5,
   "metadata": {
    "scrolled": true
   },
   "outputs": [
    {
     "name": "stdout",
     "output_type": "stream",
     "text": [
      "[temp    55.260392\n",
      "dtype: float64 humid    62.530059\n",
      "dtype: float64\n",
      " wind_speed    10.517488\n",
      "dtype: float64 precip    0.004469\n",
      "dtype: float64]\n"
     ]
    }
   ],
   "source": [
    "columns = ['temp', 'humid', 'wind_speed', 'precip']\n",
    "nyc_means = np.repeat(None, len(columns))\n",
    "\n",
    "for i in range(len(columns)):\n",
    "  column = columns[i]\n",
    "  nyc_means[i] = np.mean(weather[[column]])\n",
    "\n",
    "print(nyc_means)"
   ]
  },
  {
   "cell_type": "markdown",
   "metadata": {},
   "source": [
    "Unlike R, Python loops are fast enough to be viable.  This doesn't get around the verbosity issue, but means that we shouldn't mind using them as we caution ourselves in R.  The other nice thing is that loops in Python are more flexible than R."
   ]
  },
  {
   "cell_type": "markdown",
   "metadata": {},
   "source": [
    "Python provides what is called *list comprehension*, which is a way to create a list given a list or vector that is *iterable* with a type of shorthand for a loop."
   ]
  },
  {
   "cell_type": "markdown",
   "metadata": {},
   "source": [
    "To demonstrate, we'll just get the squared values of 0, 1 and 2."
   ]
  },
  {
   "cell_type": "code",
   "execution_count": 6,
   "metadata": {},
   "outputs": [
    {
     "data": {
      "text/plain": [
       "[0, 1, 4]"
      ]
     },
     "execution_count": 6,
     "metadata": {},
     "output_type": "execute_result"
    }
   ],
   "source": [
    "[x**2 for x in range(3)]"
   ]
  },
  {
   "cell_type": "markdown",
   "metadata": {},
   "source": [
    "Now let's try it for our weather data."
   ]
  },
  {
   "cell_type": "code",
   "execution_count": 7,
   "metadata": {},
   "outputs": [
    {
     "data": {
      "text/plain": [
       "[temp    55.260392\n",
       " dtype: float64,\n",
       " humid    62.530059\n",
       " dtype: float64,\n",
       " wind_speed    10.517488\n",
       " dtype: float64,\n",
       " precip    0.004469\n",
       " dtype: float64]"
      ]
     },
     "execution_count": 7,
     "metadata": {},
     "output_type": "execute_result"
    }
   ],
   "source": [
    "[np.mean(weather[[x]]) for x in columns] # columns was created previously above"
   ]
  },
  {
   "cell_type": "markdown",
   "metadata": {},
   "source": [
    "While not too dissimilar from how we use sapply or lapply in R, there is no special function to call."
   ]
  },
  {
   "cell_type": "markdown",
   "metadata": {},
   "source": [
    "Another nice thing I like about Python loops versus R loops is an easy way to create multiple objects with the loop.  It's not intuitive to start out with for our example, so let's build some intution."
   ]
  },
  {
   "cell_type": "markdown",
   "metadata": {},
   "source": [
    "First, let's just do a simple double assignment."
   ]
  },
  {
   "cell_type": "code",
   "execution_count": 8,
   "metadata": {},
   "outputs": [],
   "source": [
    "x, y = [1, 2]"
   ]
  },
  {
   "cell_type": "code",
   "execution_count": 9,
   "metadata": {},
   "outputs": [
    {
     "data": {
      "text/plain": [
       "1"
      ]
     },
     "execution_count": 9,
     "metadata": {},
     "output_type": "execute_result"
    }
   ],
   "source": [
    "x"
   ]
  },
  {
   "cell_type": "code",
   "execution_count": 10,
   "metadata": {},
   "outputs": [
    {
     "data": {
      "text/plain": [
       "2"
      ]
     },
     "execution_count": 10,
     "metadata": {},
     "output_type": "execute_result"
    }
   ],
   "source": [
    "y"
   ]
  },
  {
   "cell_type": "markdown",
   "metadata": {},
   "source": [
    "Well that was easy enough!  Let's try it with a standard loop."
   ]
  },
  {
   "cell_type": "code",
   "execution_count": 11,
   "metadata": {},
   "outputs": [
    {
     "data": {
      "text/plain": [
       "array([temp    55.260392\n",
       "dtype: float64,\n",
       "       humid    62.530059\n",
       "dtype: float64,\n",
       "       wind_speed    10.517488\n",
       "dtype: float64,\n",
       "       precip    0.004469\n",
       "dtype: float64], dtype=object)"
      ]
     },
     "execution_count": 11,
     "metadata": {},
     "output_type": "execute_result"
    }
   ],
   "source": [
    "nyc_means = np.repeat(None, len(columns))\n",
    "nyc_sds = np.repeat(None, len(columns))\n",
    "\n",
    "for i in range(len(columns)):\n",
    "    nyc_means[i], nyc_sds[i] = np.mean(weather[[columns[i]]]), np.std(weather[[columns[i]]])\n",
    "    \n",
    "nyc_means"
   ]
  },
  {
   "cell_type": "code",
   "execution_count": 12,
   "metadata": {},
   "outputs": [
    {
     "data": {
      "text/plain": [
       "array([temp    17.787512\n",
       "dtype: float64,\n",
       "       humid    19.395547\n",
       "dtype: float64,\n",
       "       wind_speed    8.539089\n",
       "dtype: float64,\n",
       "       precip    0.030153\n",
       "dtype: float64], dtype=object)"
      ]
     },
     "execution_count": 12,
     "metadata": {},
     "output_type": "execute_result"
    }
   ],
   "source": [
    "nyc_sds"
   ]
  },
  {
   "cell_type": "markdown",
   "metadata": {},
   "source": [
    "We can now use list comprehension and do this in one line. We have to use `zip` here, and the `*` just allows us to put any number of things into the zip function, but this approach allows us to get what we want in a very succint fashion."
   ]
  },
  {
   "cell_type": "code",
   "execution_count": 13,
   "metadata": {
    "scrolled": true
   },
   "outputs": [],
   "source": [
    "nyc_means, nyc_sds = zip(*[(np.mean(weather[[x]]), np.std(weather[[x]])) for x in columns])"
   ]
  },
  {
   "cell_type": "code",
   "execution_count": 14,
   "metadata": {},
   "outputs": [
    {
     "data": {
      "text/plain": [
       "(temp    55.260392\n",
       " dtype: float64,\n",
       " humid    62.530059\n",
       " dtype: float64,\n",
       " wind_speed    10.517488\n",
       " dtype: float64,\n",
       " precip    0.004469\n",
       " dtype: float64)"
      ]
     },
     "execution_count": 14,
     "metadata": {},
     "output_type": "execute_result"
    }
   ],
   "source": [
    "nyc_means"
   ]
  },
  {
   "cell_type": "code",
   "execution_count": 15,
   "metadata": {},
   "outputs": [
    {
     "data": {
      "text/plain": [
       "(temp    17.787512\n",
       " dtype: float64,\n",
       " humid    19.395547\n",
       " dtype: float64,\n",
       " wind_speed    8.539089\n",
       " dtype: float64,\n",
       " precip    0.030153\n",
       " dtype: float64)"
      ]
     },
     "execution_count": 15,
     "metadata": {},
     "output_type": "execute_result"
    }
   ],
   "source": [
    "nyc_sds"
   ]
  },
  {
   "cell_type": "markdown",
   "metadata": {},
   "source": [
    "In the end though, creating a function and using map or other approach like the R way may be best for a particular problem."
   ]
  },
  {
   "cell_type": "markdown",
   "metadata": {},
   "source": [
    "### Using while"
   ]
  },
  {
   "cell_type": "markdown",
   "metadata": {},
   "source": [
    "As in other programming languages, using a while statement in Python is equivalent to a loop.  If you use them, you can take advantage of the `+=` operator, which is a baffling oversight of the R language.  Note the zero start and we change `<=` to `<` as a result, but otherwise this is identical to the R example."
   ]
  },
  {
   "cell_type": "code",
   "execution_count": 16,
   "metadata": {},
   "outputs": [
    {
     "data": {
      "text/plain": [
       "array([temp    55.260392\n",
       "dtype: float64,\n",
       "       humid    62.530059\n",
       "dtype: float64,\n",
       "       wind_speed    10.517488\n",
       "dtype: float64,\n",
       "       precip    0.004469\n",
       "dtype: float64], dtype=object)"
      ]
     },
     "execution_count": 16,
     "metadata": {},
     "output_type": "execute_result"
    }
   ],
   "source": [
    "nyc_means = np.repeat(None, len(columns))\n",
    "i = 0\n",
    "\n",
    "while i < len(columns):\n",
    "    nyc_means[i] = np.mean(weather[[columns[i]]])\n",
    "    i += 1\n",
    "\n",
    "nyc_means"
   ]
  },
  {
   "cell_type": "markdown",
   "metadata": {},
   "source": [
    "Understanding loops is fundamental toward spending less time processing data and more time toward exploring it. Your code will be more succinct and more able to handle the usual changes that come with dealing with data."
   ]
  },
  {
   "cell_type": "markdown",
   "metadata": {},
   "source": [
    "### Apply-type approaches"
   ]
  },
  {
   "cell_type": "code",
   "execution_count": 17,
   "metadata": {},
   "outputs": [
    {
     "data": {
      "text/html": [
       "<div>\n",
       "<style scoped>\n",
       "    .dataframe tbody tr th:only-of-type {\n",
       "        vertical-align: middle;\n",
       "    }\n",
       "\n",
       "    .dataframe tbody tr th {\n",
       "        vertical-align: top;\n",
       "    }\n",
       "\n",
       "    .dataframe thead th {\n",
       "        text-align: right;\n",
       "    }\n",
       "</style>\n",
       "<table border=\"1\" class=\"dataframe\">\n",
       "  <thead>\n",
       "    <tr style=\"text-align: right;\">\n",
       "      <th></th>\n",
       "      <th>temp</th>\n",
       "      <th>humid</th>\n",
       "      <th>wind_speed</th>\n",
       "      <th>precip</th>\n",
       "    </tr>\n",
       "  </thead>\n",
       "  <tbody>\n",
       "    <tr>\n",
       "      <th>0</th>\n",
       "      <td>37.860264</td>\n",
       "      <td>58.210264</td>\n",
       "      <td>9.197284</td>\n",
       "      <td>-1.159736</td>\n",
       "    </tr>\n",
       "    <tr>\n",
       "      <th>1</th>\n",
       "      <td>37.917737</td>\n",
       "      <td>60.527737</td>\n",
       "      <td>6.953197</td>\n",
       "      <td>-1.102263</td>\n",
       "    </tr>\n",
       "    <tr>\n",
       "      <th>2</th>\n",
       "      <td>37.870971</td>\n",
       "      <td>63.280971</td>\n",
       "      <td>10.358771</td>\n",
       "      <td>-1.149029</td>\n",
       "    </tr>\n",
       "    <tr>\n",
       "      <th>3</th>\n",
       "      <td>38.730931</td>\n",
       "      <td>61.020931</td>\n",
       "      <td>11.469511</td>\n",
       "      <td>-1.189069</td>\n",
       "    </tr>\n",
       "    <tr>\n",
       "      <th>4</th>\n",
       "      <td>37.850398</td>\n",
       "      <td>63.260398</td>\n",
       "      <td>11.488978</td>\n",
       "      <td>-1.169602</td>\n",
       "    </tr>\n",
       "    <tr>\n",
       "      <th>...</th>\n",
       "      <td>...</td>\n",
       "      <td>...</td>\n",
       "      <td>...</td>\n",
       "      <td>...</td>\n",
       "    </tr>\n",
       "    <tr>\n",
       "      <th>26110</th>\n",
       "      <td>34.685413</td>\n",
       "      <td>50.505413</td>\n",
       "      <td>12.534773</td>\n",
       "      <td>-1.274587</td>\n",
       "    </tr>\n",
       "    <tr>\n",
       "      <th>26111</th>\n",
       "      <td>32.617056</td>\n",
       "      <td>48.147056</td>\n",
       "      <td>15.898756</td>\n",
       "      <td>-1.362944</td>\n",
       "    </tr>\n",
       "    <tr>\n",
       "      <th>26112</th>\n",
       "      <td>30.694580</td>\n",
       "      <td>47.884580</td>\n",
       "      <td>13.654720</td>\n",
       "      <td>-1.305420</td>\n",
       "    </tr>\n",
       "    <tr>\n",
       "      <th>26113</th>\n",
       "      <td>29.541923</td>\n",
       "      <td>45.361923</td>\n",
       "      <td>15.883623</td>\n",
       "      <td>-1.378077</td>\n",
       "    </tr>\n",
       "    <tr>\n",
       "      <th>26114</th>\n",
       "      <td>27.546957</td>\n",
       "      <td>45.016957</td>\n",
       "      <td>17.019437</td>\n",
       "      <td>-1.393043</td>\n",
       "    </tr>\n",
       "  </tbody>\n",
       "</table>\n",
       "<p>26115 rows × 4 columns</p>\n",
       "</div>"
      ],
      "text/plain": [
       "            temp      humid  wind_speed    precip\n",
       "0      37.860264  58.210264    9.197284 -1.159736\n",
       "1      37.917737  60.527737    6.953197 -1.102263\n",
       "2      37.870971  63.280971   10.358771 -1.149029\n",
       "3      38.730931  61.020931   11.469511 -1.189069\n",
       "4      37.850398  63.260398   11.488978 -1.169602\n",
       "...          ...        ...         ...       ...\n",
       "26110  34.685413  50.505413   12.534773 -1.274587\n",
       "26111  32.617056  48.147056   15.898756 -1.362944\n",
       "26112  30.694580  47.884580   13.654720 -1.305420\n",
       "26113  29.541923  45.361923   15.883623 -1.378077\n",
       "26114  27.546957  45.016957   17.019437 -1.393043\n",
       "\n",
       "[26115 rows x 4 columns]"
      ]
     },
     "execution_count": 17,
     "metadata": {},
     "output_type": "execute_result"
    }
   ],
   "source": [
    "def stdize(x):\n",
    "    return(x - np.mean(x) / np.std(x))\n",
    "\n",
    "weather[columns].apply(stdize, axis = 1)   # 0 for columns, 1 for rowwise application"
   ]
  },
  {
   "cell_type": "markdown",
   "metadata": {},
   "source": [
    "Sadly the above shows how much slower working with data frames can be in Python vs. R.  The above operation took several seconds.  But as a counterpoint, Python's string capabilities are very easy to use and fast relative to R.  The following provides an example with list comprehension."
   ]
  },
  {
   "cell_type": "code",
   "execution_count": 18,
   "metadata": {},
   "outputs": [
    {
     "name": "stdout",
     "output_type": "stream",
     "text": [
      "['', '', 'c', 'd', 'e']\n"
     ]
    }
   ],
   "source": [
    "x = ['aba', 'abb', 'abc', 'abd', 'abe']\n",
    "\n",
    "print([i.strip('ab') for i in x]) "
   ]
  },
  {
   "cell_type": "markdown",
   "metadata": {},
   "source": [
    "Here is an example of a rowwise application."
   ]
  },
  {
   "cell_type": "code",
   "execution_count": 19,
   "metadata": {},
   "outputs": [
    {
     "data": {
      "text/plain": [
       "0    5\n",
       "1    7\n",
       "2    9\n",
       "dtype: int64"
      ]
     },
     "execution_count": 19,
     "metadata": {},
     "output_type": "execute_result"
    }
   ],
   "source": [
    "df = pd.DataFrame(\n",
    "    {\n",
    "        'a': range(1,4),\n",
    "        'b': range(4,7)\n",
    "    }\n",
    ")\n",
    "\n",
    "df\n",
    "\n",
    "df.apply(np.sum, 1)"
   ]
  },
  {
   "cell_type": "markdown",
   "metadata": {},
   "source": [
    "### Map functionality"
   ]
  },
  {
   "cell_type": "markdown",
   "metadata": {},
   "source": [
    "While we have apply functionality, we also have map functionality similar to that demonstrated with R.  Base R has a Map function, but purrr adds both flexibility and some rigor to the utilization of it.  The main point here is that we can also use something similar for Python."
   ]
  },
  {
   "cell_type": "code",
   "execution_count": 20,
   "metadata": {},
   "outputs": [
    {
     "data": {
      "text/html": [
       "<div>\n",
       "<style scoped>\n",
       "    .dataframe tbody tr th:only-of-type {\n",
       "        vertical-align: middle;\n",
       "    }\n",
       "\n",
       "    .dataframe tbody tr th {\n",
       "        vertical-align: top;\n",
       "    }\n",
       "\n",
       "    .dataframe thead th {\n",
       "        text-align: right;\n",
       "    }\n",
       "</style>\n",
       "<table border=\"1\" class=\"dataframe\">\n",
       "  <thead>\n",
       "    <tr style=\"text-align: right;\">\n",
       "      <th></th>\n",
       "      <th>temp</th>\n",
       "      <th>humid</th>\n",
       "      <th>wind_speed</th>\n",
       "      <th>precip</th>\n",
       "    </tr>\n",
       "  </thead>\n",
       "  <tbody>\n",
       "    <tr>\n",
       "      <th>0</th>\n",
       "      <td>39.02</td>\n",
       "      <td>59.37</td>\n",
       "      <td>10.36</td>\n",
       "      <td>0.00</td>\n",
       "    </tr>\n",
       "    <tr>\n",
       "      <th>1</th>\n",
       "      <td>39.02</td>\n",
       "      <td>61.63</td>\n",
       "      <td>8.06</td>\n",
       "      <td>0.00</td>\n",
       "    </tr>\n",
       "    <tr>\n",
       "      <th>2</th>\n",
       "      <td>39.02</td>\n",
       "      <td>64.43</td>\n",
       "      <td>11.51</td>\n",
       "      <td>0.00</td>\n",
       "    </tr>\n",
       "    <tr>\n",
       "      <th>3</th>\n",
       "      <td>39.92</td>\n",
       "      <td>62.21</td>\n",
       "      <td>12.66</td>\n",
       "      <td>0.00</td>\n",
       "    </tr>\n",
       "    <tr>\n",
       "      <th>4</th>\n",
       "      <td>39.02</td>\n",
       "      <td>64.43</td>\n",
       "      <td>12.66</td>\n",
       "      <td>0.00</td>\n",
       "    </tr>\n",
       "    <tr>\n",
       "      <th>...</th>\n",
       "      <td>...</td>\n",
       "      <td>...</td>\n",
       "      <td>...</td>\n",
       "      <td>...</td>\n",
       "    </tr>\n",
       "    <tr>\n",
       "      <th>26110</th>\n",
       "      <td>35.96</td>\n",
       "      <td>51.78</td>\n",
       "      <td>13.81</td>\n",
       "      <td>0.00</td>\n",
       "    </tr>\n",
       "    <tr>\n",
       "      <th>26111</th>\n",
       "      <td>33.98</td>\n",
       "      <td>49.51</td>\n",
       "      <td>17.26</td>\n",
       "      <td>0.00</td>\n",
       "    </tr>\n",
       "    <tr>\n",
       "      <th>26112</th>\n",
       "      <td>32.00</td>\n",
       "      <td>49.19</td>\n",
       "      <td>14.96</td>\n",
       "      <td>0.00</td>\n",
       "    </tr>\n",
       "    <tr>\n",
       "      <th>26113</th>\n",
       "      <td>30.92</td>\n",
       "      <td>46.74</td>\n",
       "      <td>17.26</td>\n",
       "      <td>0.00</td>\n",
       "    </tr>\n",
       "    <tr>\n",
       "      <th>26114</th>\n",
       "      <td>28.94</td>\n",
       "      <td>46.41</td>\n",
       "      <td>18.41</td>\n",
       "      <td>0.00</td>\n",
       "    </tr>\n",
       "  </tbody>\n",
       "</table>\n",
       "<p>26115 rows × 4 columns</p>\n",
       "</div>"
      ],
      "text/plain": [
       "        temp  humid wind_speed precip\n",
       "0      39.02  59.37      10.36   0.00\n",
       "1      39.02  61.63       8.06   0.00\n",
       "2      39.02  64.43      11.51   0.00\n",
       "3      39.92  62.21      12.66   0.00\n",
       "4      39.02  64.43      12.66   0.00\n",
       "...      ...    ...        ...    ...\n",
       "26110  35.96  51.78      13.81   0.00\n",
       "26111  33.98  49.51      17.26   0.00\n",
       "26112  32.00  49.19      14.96   0.00\n",
       "26113  30.92  46.74      17.26   0.00\n",
       "26114  28.94  46.41      18.41   0.00\n",
       "\n",
       "[26115 rows x 4 columns]"
      ]
     },
     "execution_count": 20,
     "metadata": {},
     "output_type": "execute_result"
    }
   ],
   "source": [
    "round = lambda x: '%.2f' % x\n",
    "\n",
    "weather[columns].applymap(round)"
   ]
  },
  {
   "cell_type": "markdown",
   "metadata": {},
   "source": [
    "The `map` function for a pandas object will apply to the vector in question. Typically this would be a column, and the following is just an explicit form of `applymap`."
   ]
  },
  {
   "cell_type": "code",
   "execution_count": 21,
   "metadata": {},
   "outputs": [
    {
     "data": {
      "text/plain": [
       "0    1.00\n",
       "1    2.00\n",
       "2    3.00\n",
       "Name: a, dtype: object"
      ]
     },
     "execution_count": 21,
     "metadata": {},
     "output_type": "execute_result"
    }
   ],
   "source": [
    "df.a.map(round)"
   ]
  },
  {
   "cell_type": "markdown",
   "metadata": {},
   "source": [
    "### Working with lists"
   ]
  },
  {
   "cell_type": "markdown",
   "metadata": {},
   "source": [
    "List objects make it very easy to iterate some form of data processing.\n",
    "\n",
    "Let’s say you have models of increasing complexity, and you want to easily summarise and/or compare them. We create a list for which each element is a model object. We then apply a function, e.g. to get the AIC value for each, or adjusted R square."
   ]
  },
  {
   "cell_type": "code",
   "execution_count": 22,
   "metadata": {},
   "outputs": [],
   "source": [
    "import statsmodels.api as sm\n",
    "import statsmodels.formula.api as smf"
   ]
  },
  {
   "cell_type": "code",
   "execution_count": 23,
   "metadata": {},
   "outputs": [],
   "source": [
    "mtcars = sm.datasets.get_rdataset(\"mtcars\", \"datasets\").data\n",
    "results = list()\n",
    "\n",
    "\n",
    "# Fit regression model (using the natural log of one of the regressors)\n",
    "results.append(smf.ols('mpg ~ wt', data = mtcars).fit())\n",
    "results.append(smf.ols('mpg ~ wt*hp', data = mtcars).fit())\n",
    "results.append(smf.ols('mpg ~ wt + hp + vs + am', data = mtcars).fit())\n"
   ]
  },
  {
   "cell_type": "code",
   "execution_count": 24,
   "metadata": {},
   "outputs": [
    {
     "data": {
      "text/plain": [
       "[<statsmodels.regression.linear_model.RegressionResultsWrapper at 0x7fc2fbf68bd0>,\n",
       " <statsmodels.regression.linear_model.RegressionResultsWrapper at 0x7fc2fbf8c810>,\n",
       " <statsmodels.regression.linear_model.RegressionResultsWrapper at 0x7fc2fc04aad0>]"
      ]
     },
     "execution_count": 24,
     "metadata": {},
     "output_type": "execute_result"
    }
   ],
   "source": [
    "results"
   ]
  },
  {
   "cell_type": "code",
   "execution_count": 25,
   "metadata": {},
   "outputs": [
    {
     "name": "stdout",
     "output_type": "stream",
     "text": [
      "['0.74', '0.87', '0.83']\n"
     ]
    }
   ],
   "source": [
    "print([round(x.rsquared_adj) for x in results])"
   ]
  },
  {
   "cell_type": "code",
   "execution_count": 26,
   "metadata": {},
   "outputs": [
    {
     "name": "stdout",
     "output_type": "stream",
     "text": [
      "['164.03', '143.61', '154.06']\n"
     ]
    }
   ],
   "source": [
    "print([round(x.aic) for x in results])"
   ]
  },
  {
   "cell_type": "markdown",
   "metadata": {},
   "source": [
    "## Iterative Programming Exercises\n",
    "\n",
    "### Exercise 1\n",
    "\n",
    "With the following matrix, use apply and the sum function to get row or column sums of the matrix x."
   ]
  },
  {
   "cell_type": "code",
   "execution_count": 27,
   "metadata": {},
   "outputs": [
    {
     "data": {
      "text/plain": [
       "matrix([[1, 2, 3],\n",
       "        [4, 5, 6],\n",
       "        [7, 8, 9]])"
      ]
     },
     "execution_count": 27,
     "metadata": {},
     "output_type": "execute_result"
    }
   ],
   "source": [
    "x = np.matrix(np.arange(1,10)).reshape(3, 3)\n",
    "x"
   ]
  },
  {
   "cell_type": "markdown",
   "metadata": {},
   "source": [
    "### Exercise 2\n",
    "\n",
    "With the following list object `x`, loop over the elements and sum them."
   ]
  },
  {
   "cell_type": "code",
   "execution_count": 28,
   "metadata": {},
   "outputs": [],
   "source": [
    "x = [\n",
    "    np.arange(1, 4), \n",
    "    np.arange(4, 11), \n",
    "    np.arange(11, 101)\n",
    "]"
   ]
  },
  {
   "cell_type": "markdown",
   "metadata": {},
   "source": [
    "### Exercise 3\n",
    "\n",
    "As in the previous example, use a map function to create a data frame of the column means. See ?map to see all your options."
   ]
  },
  {
   "cell_type": "code",
   "execution_count": 29,
   "metadata": {},
   "outputs": [],
   "source": [
    "d = pd.DataFrame({\n",
    "  'x' : np.random.normal(size = 100),\n",
    "  'y' : np.random.normal(10, 2, 100),\n",
    "  'z' : np.random.normal(50, 10, 100),\n",
    "})"
   ]
  }
 ],
 "metadata": {
  "kernelspec": {
   "display_name": "Python 3",
   "language": "python",
   "name": "python3"
  },
  "language_info": {
   "codemirror_mode": {
    "name": "ipython",
    "version": 3
   },
   "file_extension": ".py",
   "mimetype": "text/x-python",
   "name": "python",
   "nbconvert_exporter": "python",
   "pygments_lexer": "ipython3",
   "version": "3.7.7"
  }
 },
 "nbformat": 4,
 "nbformat_minor": 4
}

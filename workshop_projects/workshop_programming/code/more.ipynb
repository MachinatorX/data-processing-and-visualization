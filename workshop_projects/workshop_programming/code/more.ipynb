{
 "cells": [
  {
   "cell_type": "markdown",
   "metadata": {},
   "source": [
    "These notes are the Python version of the R code [here](https://m-clark.github.io/data-processing-and-visualization/).  Much more detail and demonstration is found there."
   ]
  },
  {
   "cell_type": "markdown",
   "metadata": {},
   "source": [
    "This section is kind of a grab bag of miscellaneous things related to programming.  If you've made it this far, feel free to keep going!"
   ]
  },
  {
   "cell_type": "markdown",
   "metadata": {},
   "source": [
    "# More things to think about"
   ]
  },
  {
   "cell_type": "markdown",
   "metadata": {},
   "source": [
    "### Coding Style"
   ]
  },
  {
   "cell_type": "markdown",
   "metadata": {},
   "source": [
    "A lot has been written about coding <span class=\"emph\" style=\"font-family:'Alex Brush'; font-size:1.5em\">style</span> over the decades.  If there was a definitive answer, you would have heard of it by now.  However, there are a couple things you can do at the beginning of your programming approach to go a long way making your code notably better.\n",
    "\n",
    "In Python, the [PEP 8](https://www.python.org/dev/peps/pep-0008/) style guide will help out a lot. However, it was not developed with data science in mind, so it may not help for some things.  Here is [Google's](https://google.github.io/styleguide/pyguide.html).  \n",
    "\n",
    "The R style guides would mostly be applicable to Python as well, and specifically assume interactive data science, so feel free to peruse. \n",
    "- [Google](https://google.github.io/styleguide/Rguide.xml)\n",
    "- [Hadley Wickham](http://adv-r.had.co.nz/Style.html)"
   ]
  },
  {
   "cell_type": "markdown",
   "metadata": {},
   "source": [
    "### Why does your code exist?\n",
    "\n",
    "Either use text in a Jupyter Notebook or comment your Python script.  Explain *why*, not *what*, the code is doing.  Think of it as leaving your future self a note (they will thank you!).  Be clear, and don't assume you'll remember why you were doing what you did."
   ]
  },
  {
   "cell_type": "markdown",
   "metadata": {},
   "source": [
    "### Code length\n",
    "\n",
    "When doing interactive data science, if your script is becoming hundreds of lines long, you probably need to compartmentalize your operations into separate scripts.  For example, separate your data processing from your model scripts."
   ]
  },
  {
   "cell_type": "markdown",
   "metadata": {},
   "source": [
    "#### Spacing\n",
    "\n",
    "Don't be stingy with spaces. As you start out, err on the side of using them.  Just note there are exceptions (e.g. no space between function name and parenthesis, unless that function is something like <span class=\"func\">if</span> or <span class=\"func\">else</span>), but you'll get used to those over time.  Personally, a lot of the Python code I come across seems to be problematic with spacing, and even the autocomplete within functions will not include spaces for arguments, so do mind it when you can"
   ]
  },
  {
   "cell_type": "code",
   "execution_count": null,
   "metadata": {},
   "outputs": [],
   "source": [
    "import numpy as np"
   ]
  },
  {
   "cell_type": "code",
   "execution_count": null,
   "metadata": {},
   "outputs": [],
   "source": [
    "x=np.random.normal(size=10, loc=0, scale=1)            # harder to read\n",
    "                                                       # space between lines too!\n",
    "x = np.random.normal(size = 10, loc = 0, scale = 1)    # easier to read"
   ]
  },
  {
   "cell_type": "markdown",
   "metadata": {},
   "source": [
    "### Naming things\n",
    "\n",
    "You might not think of it as such initially, but one of the more difficult challenges in programming is naming things.  Even if we can come up with a name for an object or file, there are different styles we can use for the name.\n",
    "\n",
    "Here is a brief list of things to keep in mind.\n",
    "\n",
    "- The name should make sense to you, your future self, and others that will use the code\n",
    "- Try to be concise, but see the previous\n",
    "- Make liberal use of suffixes/prefixes for naming the same types of things e.g. model_x, model_z\n",
    "- For function names, try for verbs that describe what they do\n",
    "\n",
    "\n",
    "- Don't name anything with 'final'\n",
    "- Don't name something that is already a popular function/object (e.g. `T`, <span class=\"func\">c</span>, <span class=\"func\">data</span>, etc.)\n",
    "- Avoid distinguishing names only by number, e.g. <span class=\"objclass\">data1</span> <span class=\"objclass\">data2</span>\n",
    "\n",
    "\n",
    "Naming styles include:\n",
    "\n",
    "- snake_case\n",
    "- CamelCase or camelCase\n",
    "- spinal-case (e.g. for file names)\n",
    "- dot.case\n",
    "\n",
    "For objects and functions, I find snake case easier to read and less prone to issues[^style_claim]. For example, camel case can fail miserably when acronyms are involved. Dots already have specific uses (file name extensions, function methods, etc.), so probably should be avoided unless you're using them for that specific purpose (they can also make selecting the whole name difficult depending on the context)."
   ]
  },
  {
   "cell_type": "markdown",
   "metadata": {},
   "source": [
    "### Vectorization"
   ]
  },
  {
   "cell_type": "markdown",
   "metadata": {},
   "source": [
    "### Boolean Indexing\n",
    "\n",
    "Assume <span class=\"objclass\">x</span> is a vector of numbers. How would we create an index representing any value greater than 2?\n",
    "\n",
    "\n"
   ]
  },
  {
   "cell_type": "code",
   "execution_count": null,
   "metadata": {},
   "outputs": [],
   "source": [
    "x = np.array([-1, 2, 10, -5])\n",
    "idx = x > 2\n",
    "idx"
   ]
  },
  {
   "cell_type": "code",
   "execution_count": null,
   "metadata": {},
   "outputs": [],
   "source": [
    "x[idx]"
   ]
  },
  {
   "cell_type": "markdown",
   "metadata": {},
   "source": [
    "As mentioned previously, <span class=\"objclass\">logicals</span> are objects with values of `True` or `False`, like the <span class=\"objclass\">idx</span> variable above.  While sometimes we want to deal with the logical object as an end, it is extremely commonly used as an index in data processing. Note how we don't have to create an explicit index object first (though often you should), as R indexing is ridiculously flexible.  Here are more examples, not necessarily recommended, but just to demonstrate the flexibility of Boolean indexing.\n"
   ]
  },
  {
   "cell_type": "code",
   "execution_count": null,
   "metadata": {},
   "outputs": [],
   "source": [
    "x[x > 2]\n",
    "x[(x != 'cat')]\n",
    "x[~(x > 2)]\n",
    "x[np.where((x > 0) & (x != 10), True, False)]"
   ]
  },
  {
   "cell_type": "markdown",
   "metadata": {},
   "source": [
    "This approach will transfer to using things like the <span class=\"func\" style = \"\">query</span> function in pandas.\n"
   ]
  },
  {
   "cell_type": "code",
   "execution_count": null,
   "metadata": {},
   "outputs": [],
   "source": [
    "import pandas as pd\n",
    "d = pd.DataFrame({'x': [1, 2, 3], 'y': ['a', 'b', 'c']})\n",
    "d.query('x >= 2')"
   ]
  },
  {
   "cell_type": "markdown",
   "metadata": {},
   "source": [
    "Boolean indexing allows us to take <span class=\"emph\">vectorized</span> approaches to dealing with data. Consider the following unfortunately coded loop, where we create a variable `y`, which takes on the value of **Yes** if the variable `x` is greater than 2, and **No** if otherwise.\n",
    "\n"
   ]
  },
  {
   "cell_type": "code",
   "execution_count": null,
   "metadata": {},
   "outputs": [],
   "source": [
    "mydf = d.copy()\n",
    "\n",
    "for i in range(mydf.shape[0]):\n",
    "    \n",
    "    check = mydf.x[i] > 2\n",
    "    \n",
    "    if check == True :\n",
    "        mydf.y[i] = 'Yes'\n",
    "    else:\n",
    "        mydf.y[i] = 'No'\n",
    "\n",
    "mydf\n",
    "\n",
    "\n"
   ]
  },
  {
   "cell_type": "markdown",
   "metadata": {},
   "source": [
    "Compare with np.where[^ifelse]:\n",
    "\n"
   ]
  },
  {
   "cell_type": "code",
   "execution_count": null,
   "metadata": {
    "scrolled": true
   },
   "outputs": [],
   "source": [
    "mydf = d\n",
    "\n",
    "mydf.y = 'No'\n",
    "\n",
    "mydf.y[mydf.x > 2] = 'Yes'\n",
    "\n",
    "mydf\n"
   ]
  },
  {
   "cell_type": "markdown",
   "metadata": {},
   "source": [
    "This gets us the same thing, and would be much faster than the looped approach. Boolean indexing is an example of a vectorized operation.  The whole vector is considered, rather than each element individually.  The result is that any preprocessing is done once rather than the `n` iterations of the loop.  In R, this will  always faster.\n",
    "\n",
    "Example: Log all values in a matrix.\n",
    "\n"
   ]
  },
  {
   "cell_type": "code",
   "execution_count": null,
   "metadata": {},
   "outputs": [],
   "source": [
    "mymatrix = np.random.uniform(size = 10000).reshape(100, 100)"
   ]
  },
  {
   "cell_type": "code",
   "execution_count": null,
   "metadata": {},
   "outputs": [],
   "source": [
    "mymatrix_log = np.log(mymatrix)"
   ]
  },
  {
   "cell_type": "markdown",
   "metadata": {},
   "source": [
    "This is way faster than looping over elements, rows or columns. Here we'll let the <span class=\"func\">apply</span> function stand in for our loop, logging the elements of each column."
   ]
  },
  {
   "cell_type": "code",
   "execution_count": null,
   "metadata": {},
   "outputs": [],
   "source": [
    "import timeit\n",
    "\n",
    "timeit.Timer(lambda: np.log(mymatrix)).timeit(number = 1000)"
   ]
  },
  {
   "cell_type": "code",
   "execution_count": null,
   "metadata": {},
   "outputs": [],
   "source": [
    "# ?np.apply_along_axis # use as shorthand loop"
   ]
  },
  {
   "cell_type": "code",
   "execution_count": null,
   "metadata": {
    "scrolled": true
   },
   "outputs": [],
   "source": [
    "timeit.Timer(lambda: np.apply_along_axis(np.log, 0, mymatrix)).timeit(number = 1000)"
   ]
  },
  {
   "cell_type": "markdown",
   "metadata": {},
   "source": [
    "A more explicit loop."
   ]
  },
  {
   "cell_type": "code",
   "execution_count": null,
   "metadata": {
    "scrolled": false
   },
   "outputs": [],
   "source": [
    "timeit.Timer(lambda: [np.log(mymatrix[:, c]) for c in range(mymatrix.shape[1])]).timeit(number = 1000)"
   ]
  },
  {
   "cell_type": "markdown",
   "metadata": {},
   "source": [
    "As we can see, loops are pretty fast, and not as big an issue as with R, but vectorized approaches can allow for even faster results and more succinct code that requires much less programming effort.\n",
    "  "
   ]
  },
  {
   "cell_type": "markdown",
   "metadata": {},
   "source": [
    "### Regular Expressions"
   ]
  },
  {
   "cell_type": "markdown",
   "metadata": {},
   "source": [
    "A <span class=\"emph\">regular expression</span>, regex for short, is a sequence of characters that can be used as a search pattern for a string. Common operations are to merely detect, extract, or replace the matching string.  There are actually many different flavors of regex for different programming languages, which are all flavors that originate with the Perl approach, or can enable the Perl approach to be used.  However, knowing one means you pretty much know the others with only minor modifications if any.\n",
    "\n",
    "To be clear, not only is regex another language, it's nigh on indecipherable.  You will not learn much regex, but what you do learn will save a potentially enormous amount of time you'd otherwise spend trying to do things in a more haphazard fashion. Furthermore, practically every situation that will come up has already been asked and answered on [Stack Overflow](https://stackoverflow.com/questions/tagged/regex), so you'll almost always be able to search for what you need.\n",
    "\n",
    "Here is an example of a pattern we might be interested in:"
   ]
  },
  {
   "cell_type": "markdown",
   "metadata": {},
   "source": [
    "`^python.*shiny[0-9]$`\n",
    "\n",
    "What is *that* you may ask?  Well here is an example of strings it would and wouldn't match.  We're using <span class=\"func\">grepl</span> to return a logical (i.e. `TRUE` or `FALSE`) if any of the strings match the pattern in some way."
   ]
  },
  {
   "cell_type": "code",
   "execution_count": null,
   "metadata": {},
   "outputs": [],
   "source": [
    "import re\n",
    "\n",
    "str_vec = ['python is the shiniest 1', 'python is the shiny1', 'python shines brightly']"
   ]
  },
  {
   "cell_type": "code",
   "execution_count": null,
   "metadata": {
    "scrolled": true
   },
   "outputs": [],
   "source": [
    "r = re.compile('^py.*shiny[0-9]$')      \n",
    "\n",
    "result = list(filter(r.match, str_vec))\n",
    "\n",
    "result"
   ]
  },
  {
   "cell_type": "markdown",
   "metadata": {},
   "source": [
    "What the regex is esoterically attempting to match is any string that starts with 'r' and ends with 'shiny_' where _ is some single digit.  Specifically it breaks down as follows:\n",
    "\n",
    "- **^** : starts with, so ^python means starts with python\n",
    "- **.** : any character\n",
    "- **\\*** : match the preceding zero or more times\n",
    "- **shiny** : match 'shiny'\n",
    "- **[0-9]** : any digit 0-9 (note that we are still talking about strings, not actual numbered values)\n",
    "- **$** : ends with preceding\n",
    "\n",
    "\n",
    "### Typical Uses\n",
    "\n",
    "None of it makes sense, so don't attempt to do so. Just try to remember a couple key approaches, and search the web for the rest.\n",
    "\n",
    "Along with ^ . * [0-9] $, a couple more common ones are:\n",
    "\n",
    "- **[a-z]** : letters a-z\n",
    "- **[A-Z]** : capital letters\n",
    "- **+** : match the preceding one or more times\n",
    "- **()** : groupings\n",
    "- **|** : logical or e.g. [a-z]|[0-9]  (a lower case letter or a number)\n",
    "- **?** : preceding item is optional, and will be matched at most once. Typically used for 'look ahead' and 'look behind'\n",
    "- **\\** : escape a character, like if you actually wanted to search for a period instead of using it as a regex pattern, you'd use \\\\.\n",
    "\n",
    "\n",
    "\n"
   ]
  },
  {
   "cell_type": "markdown",
   "metadata": {},
   "source": [
    "See if you can guess which of the following will turn up `TRUE`."
   ]
  },
  {
   "cell_type": "code",
   "execution_count": null,
   "metadata": {},
   "outputs": [],
   "source": [
    "fruit = ['apple', 'pear', 'banana']\n",
    "\n",
    "[bool(re.search(r'a', f)) for f in fruit]"
   ]
  },
  {
   "cell_type": "code",
   "execution_count": null,
   "metadata": {},
   "outputs": [],
   "source": [
    "[bool(re.search(r'^a', f)) for f in fruit]"
   ]
  },
  {
   "cell_type": "code",
   "execution_count": null,
   "metadata": {
    "scrolled": false
   },
   "outputs": [],
   "source": [
    "[bool(re.search(r'^a|a$', f)) for f in fruit]"
   ]
  },
  {
   "cell_type": "markdown",
   "metadata": {},
   "source": [
    "Scraping the web, munging data, just finding things in your scripts ... you can potentially use this all the time, and not only with text analysis."
   ]
  },
  {
   "cell_type": "markdown",
   "metadata": {},
   "source": [
    "-- I personally find using regex in python verbose and unintuitive, whereas grep and/or packages like stringr are very straightforward, and being vectorized, almost never require more than one line, return the whole element (which is typically desired in my experience), etc. --"
   ]
  },
  {
   "cell_type": "code",
   "execution_count": null,
   "metadata": {},
   "outputs": [],
   "source": []
  }
 ],
 "metadata": {
  "kernelspec": {
   "display_name": "Python 3",
   "language": "python",
   "name": "python3"
  },
  "language_info": {
   "codemirror_mode": {
    "name": "ipython",
    "version": 3
   },
   "file_extension": ".py",
   "mimetype": "text/x-python",
   "name": "python",
   "nbconvert_exporter": "python",
   "pygments_lexer": "ipython3",
   "version": "3.6.9"
  }
 },
 "nbformat": 4,
 "nbformat_minor": 2
}

{
 "cells": [
  {
   "cell_type": "code",
   "execution_count": null,
   "metadata": {},
   "outputs": [],
   "source": [
    "import numpy as np\n",
    "import pandas as pd\n",
    "\n",
    "\n",
    "x = np.asmatrix([1, 3, 2, 5, 4])\n",
    "x.dtype"
   ]
  },
  {
   "cell_type": "code",
   "execution_count": null,
   "metadata": {},
   "outputs": [],
   "source": [
    "# character vector as list\n",
    "x = ['... Of Your Fake Dimension', 'Ephemeron', 'Dryswch', 'Isotasy', 'Memory']\n",
    "x\n",
    "# as np object\n",
    "x = np.asarray(['... Of Your Fake Dimension', 'Ephemeron', 'Dryswch', 'Isotasy', 'Memory'])\n",
    "x"
   ]
  },
  {
   "cell_type": "code",
   "execution_count": null,
   "metadata": {},
   "outputs": [],
   "source": [
    "## ----factors -----------------------------------------\n",
    "x_string = np.repeat(['a', 'b', 'c'], 10)\n",
    "x_factor = pd.Categorical(x_string)\n",
    "x_factor\n",
    "x_factor.dtype\n",
    "# np.sum(x_factor)             # not what you want\n",
    "x_num = x_factor.codes\n",
    "np.sum(x_num)                # can use as numeric "
   ]
  },
  {
   "cell_type": "code",
   "execution_count": null,
   "metadata": {},
   "outputs": [],
   "source": [
    "## ----logical/boolean-------------------------------------------------------------\n",
    "my_logic = np.array([True, False, True, False, True, True], dtype=bool)\n",
    "type(my_logic)"
   ]
  },
  {
   "cell_type": "code",
   "execution_count": null,
   "metadata": {},
   "outputs": [],
   "source": [
    "## ----logical_demo--------------------------------------------------------\n",
    "np.logical_not(my_logic)"
   ]
  },
  {
   "cell_type": "code",
   "execution_count": null,
   "metadata": {},
   "outputs": [],
   "source": [
    "my_logic.astype(int)"
   ]
  },
  {
   "cell_type": "code",
   "execution_count": null,
   "metadata": {
    "scrolled": true
   },
   "outputs": [],
   "source": [
    "np.mean(my_logic)"
   ]
  },
  {
   "cell_type": "code",
   "execution_count": null,
   "metadata": {},
   "outputs": [],
   "source": [
    "## ----int_num-------------------------------------------------------------\n",
    "[np.arange(3)]\n",
    "# type([np.arange(3)])"
   ]
  },
  {
   "cell_type": "code",
   "execution_count": null,
   "metadata": {},
   "outputs": [],
   "source": [
    "np.random.randn(5)"
   ]
  },
  {
   "cell_type": "code",
   "execution_count": null,
   "metadata": {},
   "outputs": [],
   "source": [
    "## ----createMatrix--------------------------------------------------------\n",
    "# vectors; note that the sequence is open on the right, i.e. will not include the stop number\n",
    "x = np.arange(1, 5)\n",
    "y = np.arange(5, 9)\n",
    "z = np.arange(9, 13)\n",
    "\n",
    "np.vstack((x, y, z))   "
   ]
  },
  {
   "cell_type": "code",
   "execution_count": null,
   "metadata": {
    "scrolled": true
   },
   "outputs": [],
   "source": [
    "np.hstack((x, y, z))  # not really, but consistent with documentation"
   ]
  },
  {
   "cell_type": "code",
   "execution_count": null,
   "metadata": {},
   "outputs": [],
   "source": [
    "# or reshape to 2d matrix and use concatenate\n",
    "x = np.arange(1,5).reshape(1,4)\n",
    "y = np.arange(5,9).reshape(1,4)\n",
    "z = np.arange(9,13).reshape(1,4)\n",
    "\n",
    "np.concatenate((x,y,z), axis=0)"
   ]
  },
  {
   "cell_type": "code",
   "execution_count": null,
   "metadata": {},
   "outputs": [],
   "source": [
    "## ----list----------------------------------------------------------------\n",
    "x = [1, 'apple', [3, 'cat']]\n",
    "x"
   ]
  },
  {
   "cell_type": "code",
   "execution_count": null,
   "metadata": {},
   "outputs": [],
   "source": [
    "## ----listloop------------------------------------------------------------\n",
    "for elem in x: print(type(elem))"
   ]
  },
  {
   "cell_type": "code",
   "execution_count": null,
   "metadata": {},
   "outputs": [],
   "source": [
    "## ----namedlist-----------------------------------------------------------\n",
    "x = {'a':25, 'b':-1, 'c':0}\n",
    "x['b']"
   ]
  },
  {
   "cell_type": "code",
   "execution_count": null,
   "metadata": {},
   "outputs": [],
   "source": [
    "## ----createdf-------------------------------------------------\n",
    "mydf = pd.DataFrame({'a': [1,5,2],\n",
    "                     'b': [3,8,1]})\n",
    "mydf"
   ]
  },
  {
   "cell_type": "code",
   "execution_count": null,
   "metadata": {},
   "outputs": [],
   "source": [
    "## ----dfrownames-----------------------------------------------\n",
    "mydf.index  = {'row' + str(x) for x in np.arange(1,4)}\n",
    "mydf"
   ]
  },
  {
   "cell_type": "code",
   "execution_count": null,
   "metadata": {},
   "outputs": [],
   "source": [
    "## ----dsex1, echo=F-------------------------------------------------------\n",
    "mydf = pd.DataFrame({'A':[1,2,3], 'B':['a','b','c']})\n",
    "mydf"
   ]
  },
  {
   "cell_type": "code",
   "execution_count": null,
   "metadata": {},
   "outputs": [],
   "source": [
    "## ----dsex2, echo=F-------------------------------------------------------\n",
    "mylist = [['a','b'], [1,2,3], mydf]\n",
    "mylist"
   ]
  }
 ],
 "metadata": {
  "kernelspec": {
   "display_name": "Python 3",
   "language": "python",
   "name": "python3"
  },
  "language_info": {
   "codemirror_mode": {
    "name": "ipython",
    "version": 3
   },
   "file_extension": ".py",
   "mimetype": "text/x-python",
   "name": "python",
   "nbconvert_exporter": "python",
   "pygments_lexer": "ipython3",
   "version": "3.6.9"
  }
 },
 "nbformat": 4,
 "nbformat_minor": 2
}

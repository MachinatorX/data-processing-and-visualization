{
 "cells": [
  {
   "cell_type": "markdown",
   "metadata": {},
   "source": [
    "These notes are the Python version of the R code [here](https://m-clark.github.io/data-processing-and-visualization/).  Much more detail and demonstration is found there."
   ]
  },
  {
   "cell_type": "markdown",
   "metadata": {},
   "source": [
    "# Writing Functions"
   ]
  },
  {
   "cell_type": "markdown",
   "metadata": {},
   "source": [
    "You can’t do anything in data science without using functions, but have you ever written your own? Why would you?\n",
    "\n",
    "- Efficiency\n",
    "- Customized functionality\n",
    "- Reproducibility\n",
    "- Extend the work that’s already been done\n",
    "\n",
    "There are many benefits to writing your own functions, and it’s actually easy to do. Once you get the basic concept down, you’ll likely find yourself using your own functions more and more."
   ]
  },
  {
   "cell_type": "markdown",
   "metadata": {},
   "source": [
    "There is less convincing needed for Python users to use functions.  I believe this partly stems from Python being a general programming language rather than a data-science specific language, and many courses teach the basic programming part before data science applications, even when the latter is the focus.  In addition, while R and other statistical programming languages assume interactive/line-by-line use, Python as a programming language does not, and many use it in a much different fashion than what would be more useful for data science."
   ]
  },
  {
   "cell_type": "markdown",
   "metadata": {},
   "source": [
    "In general, if something out there is available that is tested and already does the job, I suggest using it before reinventing the wheel, which goes with the typical DRY approach of programming."
   ]
  },
  {
   "cell_type": "markdown",
   "metadata": {},
   "source": [
    "### A Starting Point"
   ]
  },
  {
   "cell_type": "code",
   "execution_count": null,
   "metadata": {},
   "outputs": [],
   "source": [
    "import pandas as pd\n",
    "import numpy as np"
   ]
  },
  {
   "cell_type": "markdown",
   "metadata": {},
   "source": [
    "A custom function to calculate some values of interest and return a `DataFrame` object."
   ]
  },
  {
   "cell_type": "code",
   "execution_count": null,
   "metadata": {},
   "outputs": [],
   "source": [
    "def my_summary(x):\n",
    "    out = pd.DataFrame(\n",
    "        {\n",
    "        'mean': np.mean(x),\n",
    "        'sd': np.std(x),\n",
    "        'N_missing': np.sum(np.isnan(x))\n",
    "        },\n",
    "        index = ['row1']   # index is required for 1 row result\n",
    "    )\n",
    "    return(out)\n"
   ]
  },
  {
   "cell_type": "code",
   "execution_count": null,
   "metadata": {},
   "outputs": [],
   "source": [
    "my_summary([1,2,3])"
   ]
  },
  {
   "cell_type": "markdown",
   "metadata": {},
   "source": [
    "Works fine. However, data typically isn’t that pretty. It often has missing values."
   ]
  },
  {
   "cell_type": "code",
   "execution_count": null,
   "metadata": {
    "scrolled": true
   },
   "outputs": [],
   "source": [
    "def my_summary(x):\n",
    "    out = pd.DataFrame(\n",
    "        {\n",
    "        'mean': np.nanmean(x),\n",
    "        'sd': np.nanstd(x),\n",
    "        'N_missing': np.sum(np.isnan(x))\n",
    "        },\n",
    "        index = ['row1']   # index is required for 1 row result\n",
    "    )\n",
    "    return(out)"
   ]
  },
  {
   "cell_type": "code",
   "execution_count": null,
   "metadata": {},
   "outputs": [],
   "source": [
    "gapminder = pd.read_csv('../data/gapminder_small.csv')\n",
    "my_summary(gapminder.lifeExp)"
   ]
  },
  {
   "cell_type": "code",
   "execution_count": null,
   "metadata": {},
   "outputs": [],
   "source": [
    "def my_summary(x):\n",
    "    out = pd.DataFrame(\n",
    "        {\n",
    "        'mean': np.nanmean(x),\n",
    "        'sd': np.nanstd(x),\n",
    "        'N_observed': np.sum(np.logical_not(np.isnan(x))), \n",
    "        'N_missing': np.sum(np.isnan(x)),\n",
    "        'N_total': len(x)            \n",
    "        },\n",
    "        index = ['row1']   # index is required for 1 row result\n",
    "    )\n",
    "    return(out)"
   ]
  },
  {
   "cell_type": "code",
   "execution_count": null,
   "metadata": {
    "scrolled": true
   },
   "outputs": [],
   "source": [
    "my_summary(gapminder.lifeExp)"
   ]
  },
  {
   "cell_type": "markdown",
   "metadata": {},
   "source": [
    "Now let's do it for every column!"
   ]
  },
  {
   "cell_type": "code",
   "execution_count": null,
   "metadata": {},
   "outputs": [],
   "source": [
    "gapminder.dtypes"
   ]
  },
  {
   "cell_type": "code",
   "execution_count": null,
   "metadata": {
    "scrolled": true
   },
   "outputs": [],
   "source": [
    "# this was a good example of where the tidy approach is more straightforward due to purrr and other functionality; \n",
    "# this was about as good as I could come up with.\n",
    "init = gapminder.select_dtypes(exclude='object')\n",
    "\n",
    "pd.concat([my_summary(init[i]) for i in init.columns])"
   ]
  },
  {
   "cell_type": "markdown",
   "metadata": {},
   "source": [
    "Playing with functions.  Create a function that returns another function."
   ]
  },
  {
   "cell_type": "code",
   "execution_count": null,
   "metadata": {},
   "outputs": [],
   "source": [
    "def center(type):\n",
    "    if (type == 'mean'): \n",
    "        return np.mean\n",
    "    else:\n",
    "        return np.median\n",
    "\n",
    "center(type = 'mean')\n",
    "\n",
    "myfun = center(type = 'mean')\n",
    "\n",
    "myfun([1,2,3])"
   ]
  },
  {
   "cell_type": "markdown",
   "metadata": {},
   "source": [
    "Set default values for the inputs."
   ]
  },
  {
   "cell_type": "code",
   "execution_count": null,
   "metadata": {},
   "outputs": [],
   "source": [
    "\n",
    "def hi(name = 'Beyoncé'):\n",
    "    return 'Hi ' + name + '!'\n",
    "\n",
    "\n",
    "hi()"
   ]
  },
  {
   "cell_type": "code",
   "execution_count": null,
   "metadata": {},
   "outputs": [],
   "source": [
    "hi(name = 'Jay-Z')"
   ]
  },
  {
   "cell_type": "code",
   "execution_count": null,
   "metadata": {
    "scrolled": true
   },
   "outputs": [],
   "source": [
    "mpg = pd.read_csv('../data/mpg.csv')\n",
    "mpg"
   ]
  },
  {
   "cell_type": "markdown",
   "metadata": {},
   "source": [
    "### **D**on't **R**epeat **Y**ourself"
   ]
  },
  {
   "cell_type": "markdown",
   "metadata": {},
   "source": [
    "An oft-quoted mantra in programming is Don’t Repeat Yourself. One context regards iterative programming, where we would rather write one line of code than one-hundred. More generally though, we would like to gain efficiency where possible. A good rule of thumb is, if you are writing the same set of code more than twice, you should write a function to do it instead."
   ]
  },
  {
   "cell_type": "code",
   "execution_count": null,
   "metadata": {
    "scrolled": true
   },
   "outputs": [],
   "source": [
    "def good_mileage(\n",
    "    cylinder = 4,\n",
    "    mpg_cutoff = 30,\n",
    "    displ_fun = np.mean,\n",
    "    displ_low = True,\n",
    "    cls = \"compact\"\n",
    "):\n",
    "    if (displ_low == True):\n",
    "        result = mpg[\n",
    "            (mpg['cyl'].eq(cylinder)) &\n",
    "            (mpg['hwy'].ge(mpg_cutoff)) &\n",
    "            (mpg['class'].eq(cls)) &\n",
    "            (mpg['displ'].le(displ_fun(mpg['displ'])))\n",
    "        ]\n",
    "    else:\n",
    "         result = mpg[\n",
    "            (mpg['cyl'].eq(cylinder)) &\n",
    "            (mpg['hwy'].ge(mpg_cutoff)) &\n",
    "            (mpg['class'].eq(cls)) &\n",
    "            (mpg['displ'].ge(displ_fun(mpg['displ'])))\n",
    "        ]\n",
    "    \n",
    "    return result"
   ]
  },
  {
   "cell_type": "markdown",
   "metadata": {},
   "source": [
    "### Conditionals"
   ]
  },
  {
   "cell_type": "markdown",
   "metadata": {},
   "source": [
    "The core of the above function uses a conditional statement using standard if…else structure. The if part determines whether some condition holds. If it does, then proceed to the next step in the brackets. If not, skip to the else part. We can also add conditional else statements (else if), drop the else part entirely, nest conditionals within other conditionals, etc. Like loops, conditional statements look very similar across all programming languages."
   ]
  },
  {
   "cell_type": "markdown",
   "metadata": {},
   "source": [
    "In any case, with our function at the ready, we can now do the things we want to as needed:"
   ]
  },
  {
   "cell_type": "code",
   "execution_count": null,
   "metadata": {},
   "outputs": [],
   "source": [
    "good_mileage(mpg_cutoff = 40)"
   ]
  },
  {
   "cell_type": "code",
   "execution_count": null,
   "metadata": {},
   "outputs": [],
   "source": [
    "good_mileage(\n",
    "    cylinder = 8,\n",
    "    mpg_cutoff = 15,\n",
    "    displ_low = False,\n",
    "    displ_fun = np.median,\n",
    "    cls = 'suv'\n",
    ")"
   ]
  },
  {
   "cell_type": "markdown",
   "metadata": {},
   "source": [
    "Let’s extend the functionality by adding a year argument (the only values available are 2008 and 1999)."
   ]
  },
  {
   "cell_type": "code",
   "execution_count": null,
   "metadata": {},
   "outputs": [],
   "source": [
    "def good_mileage(\n",
    "    cylinder = 4,\n",
    "    mpg_cutoff = 30,\n",
    "    displ_fun = np.mean,\n",
    "    displ_low = True,\n",
    "    cls = \"compact\",\n",
    "    yr = 2008\n",
    "):\n",
    "    if (displ_low == True):\n",
    "        result = mpg[\n",
    "            (mpg['cyl'].eq(cylinder)) &\n",
    "            (mpg['hwy'].ge(mpg_cutoff)) &\n",
    "            (mpg['class'].eq(cls)) &\n",
    "            (mpg['displ'].le(displ_fun(mpg['displ'])) &\n",
    "            (mpg['year'].eq(yr))\n",
    "            )\n",
    "        ]\n",
    "    else:\n",
    "         result = mpg[\n",
    "             (mpg['cyl'].eq(cylinder)) &\n",
    "             (mpg['hwy'].ge(mpg_cutoff)) &\n",
    "             (mpg['class'].eq(cls)) &\n",
    "             (mpg['displ'].ge(displ_fun(mpg['displ']))) &\n",
    "             (mpg['year'].eq(yr))\n",
    "        ]\n",
    "    \n",
    "    return result"
   ]
  },
  {
   "cell_type": "code",
   "execution_count": null,
   "metadata": {
    "scrolled": true
   },
   "outputs": [],
   "source": [
    "good_mileage(\n",
    "  cylinder = 8,\n",
    "  mpg_cutoff = 19,\n",
    "  displ_low = False,\n",
    "  cls = 'suv',\n",
    "  yr = 2008\n",
    ")"
   ]
  },
  {
   "cell_type": "markdown",
   "metadata": {},
   "source": [
    "### Anonymous functions"
   ]
  },
  {
   "cell_type": "markdown",
   "metadata": {},
   "source": [
    "Oftentimes we just need a quick and easy function for a one-off application.  For example, both the following would calculate standard deviations of columns.\n"
   ]
  },
  {
   "cell_type": "code",
   "execution_count": null,
   "metadata": {},
   "outputs": [],
   "source": [
    "mtcars = pd.read_csv('https://vincentarelbundock.github.io/Rdatasets/csv/datasets/mtcars.csv', index_col=0)"
   ]
  },
  {
   "cell_type": "code",
   "execution_count": null,
   "metadata": {},
   "outputs": [],
   "source": [
    "mtcars.apply(np.std, axis=0)"
   ]
  },
  {
   "cell_type": "code",
   "execution_count": null,
   "metadata": {},
   "outputs": [],
   "source": [
    "mtcars.apply(lambda x: x/2, axis=0).head()"
   ]
  },
  {
   "cell_type": "markdown",
   "metadata": {},
   "source": [
    "The difference between the two is that for the latter, our function didn’t have to be a named object already available. We created a function on the fly just to serve a specific purpose. A function doesn’t exist that just does nothing but divide by two, but since it is simple, we just created it as needed.\n",
    "\n",
    "To further illustrate this, we’ll create a robust standardization function that uses the median and median absolute deviation rather than the mean and standard deviation."
   ]
  },
  {
   "cell_type": "code",
   "execution_count": null,
   "metadata": {},
   "outputs": [],
   "source": [
    "from statsmodels import robust\n",
    "\n",
    "# some variables have a mad = 0, and so return Inf (x/0) or NaN (0/0)\n",
    "mtcars.apply(lambda x: (x - np.median(x))/robust.mad(x)).head()"
   ]
  },
  {
   "cell_type": "markdown",
   "metadata": {},
   "source": [
    "Even if you don’t use anonymous functions (sometimes called lambda functions), it’s important to understand them, because you’ll often see other people’s code using them."
   ]
  },
  {
   "cell_type": "code",
   "execution_count": null,
   "metadata": {},
   "outputs": [],
   "source": []
  }
 ],
 "metadata": {
  "kernelspec": {
   "display_name": "Python 3",
   "language": "python",
   "name": "python3"
  },
  "language_info": {
   "codemirror_mode": {
    "name": "ipython",
    "version": 3
   },
   "file_extension": ".py",
   "mimetype": "text/x-python",
   "name": "python",
   "nbconvert_exporter": "python",
   "pygments_lexer": "ipython3",
   "version": "3.6.9"
  }
 },
 "nbformat": 4,
 "nbformat_minor": 2
}

{
 "cells": [
  {
   "cell_type": "markdown",
   "metadata": {},
   "source": [
    "# Model Exploration"
   ]
  },
  {
   "cell_type": "markdown",
   "metadata": {},
   "source": [
    "This document is a Python exploration of this R document: http://m-clark.github.io/data-processing-and-visualization/.  It is intended for those new to modeling and related concepts.  Code is *not* optimized for anything but learning.  In addition, all the content is located with the main document, not here, so many sections may not be included.  I only focus on reproducing the code chunks."
   ]
  },
  {
   "cell_type": "code",
   "execution_count": 170,
   "metadata": {},
   "outputs": [],
   "source": [
    "import statsmodels.api as sm\n",
    "import statsmodels.formula.api as smf\n",
    "import pandas as pd"
   ]
  },
  {
   "cell_type": "markdown",
   "metadata": {},
   "source": [
    "## Linear Models"
   ]
  },
  {
   "cell_type": "markdown",
   "metadata": {},
   "source": [
    "A typical way to depict a linear regression model is as follows:\n",
    "\n",
    "\n",
    "$$y = b_0 + b_1\\cdot x_1 + b_2\\cdot x_2 + ... +  + b_p\\cdot x_p + \\epsilon$$\n",
    "\n",
    "In the above, $b_0$ is the intercept, and the other $b_*$ are the regression coefficients that represent the relationship of the predictors $x$ to the target variable $y$.  The $\\epsilon$ represents the *error* or *residual*.  We don't have perfect prediction, and that represents the difference between what we can guess with our predictor relationships to the target and what we actually observe with it.\n",
    "\n",
    "In Python, we specify a linear model as we would in R using [the formula api](https://www.statsmodels.org/devel/example_formulas.html).  There are various inputs, typically starting with the formula. In the formula, The target variable is first, followed by the predictor variables, separated by a tilde (`~`). Additional predictor variables are added with a plus sign (`+`).  In this example, `y` is our target, and the predictors are `x` and `z`."
   ]
  },
  {
   "cell_type": "code",
   "execution_count": 171,
   "metadata": {},
   "outputs": [
    {
     "data": {
      "text/plain": [
       "'y ~ x'"
      ]
     },
     "execution_count": 171,
     "metadata": {},
     "output_type": "execute_result"
    }
   ],
   "source": [
    "'y ~ x'"
   ]
  },
  {
   "cell_type": "markdown",
   "metadata": {},
   "source": [
    "Generally in Python, model fitting is done in two steps, where the model is first specified, then subsequently fit."
   ]
  },
  {
   "cell_type": "code",
   "execution_count": 172,
   "metadata": {},
   "outputs": [],
   "source": [
    "mod = smf.ols(formula='y ~ x', data = df)\n",
    "\n",
    "res = mod.fit()"
   ]
  },
  {
   "cell_type": "markdown",
   "metadata": {},
   "source": [
    "We can add things like interactions or convert variable types within the formula."
   ]
  },
  {
   "cell_type": "code",
   "execution_count": 173,
   "metadata": {},
   "outputs": [],
   "source": [
    "# mod = smf.ols(formula='y ~ x + z + x:z', data = df)\n",
    "# mod = smf.ols(formula='y ~ x + C(z)', data = df)  # convert z to categorical"
   ]
  },
  {
   "cell_type": "markdown",
   "metadata": {},
   "source": [
    "## Estimation"
   ]
  },
  {
   "cell_type": "markdown",
   "metadata": {},
   "source": [
    "### Loss"
   ]
  },
  {
   "cell_type": "markdown",
   "metadata": {},
   "source": [
    "The goal of many estimation approaches is the reduction of *loss*, conceptually defined as the difference between the model predictions and the observed data, i.e. prediction error. In an introductory methods course, many are introduced to *ordinary least squares* as a means to estimate the coefficients for a linear regression model.  In this scenario, we are seeking to come up with estimates of the coefficients that minimize the (squared) difference between the observed target value and the fitted value based on the parameter estimates.  The loss in this case is defined as the sum of the squared errors.  Formally we can state it as follows.\n",
    "\n",
    "$$\\mathcal{Loss} = \\Sigma(y - \\hat{y})^2$$"
   ]
  },
  {
   "cell_type": "markdown",
   "metadata": {},
   "source": [
    "We can see how this works more clearly with some simple conceptual code.  In what follows, we create a function, allows us to move row by row through the data, calculating both our prediction based on the given model parameters- $\\hat{y}$, and the difference between that and our target variable $y$.  We sum these squared differences to get a total. In practice such a function is called the loss function, cost function, or objective function."
   ]
  },
  {
   "cell_type": "code",
   "execution_count": 174,
   "metadata": {},
   "outputs": [],
   "source": [
    "import numpy as np"
   ]
  },
  {
   "cell_type": "code",
   "execution_count": 175,
   "metadata": {},
   "outputs": [],
   "source": [
    "def ls_loss(X, y, beta):\n",
    "    N = X.shape[0]\n",
    "    loss  = np.repeat(0., N)\n",
    "    y_hat = np.repeat(0., N)\n",
    "    \n",
    "    for n in range(N):\n",
    "        y_hat[n] = np.sum(X[n]*beta)\n",
    "        loss[n]  = (y[n] - y_hat[n])**2\n",
    "    \n",
    "    return(np.sum(loss))"
   ]
  },
  {
   "cell_type": "markdown",
   "metadata": {},
   "source": [
    "Now we need some data. Let's construct some data so that we know the true underlying values for the regression coefficients. Feel free to change the sample size `N` or the coefficient values."
   ]
  },
  {
   "cell_type": "code",
   "execution_count": 176,
   "metadata": {},
   "outputs": [
    {
     "data": {
      "text/html": [
       "<div>\n",
       "<style scoped>\n",
       "    .dataframe tbody tr th:only-of-type {\n",
       "        vertical-align: middle;\n",
       "    }\n",
       "\n",
       "    .dataframe tbody tr th {\n",
       "        vertical-align: top;\n",
       "    }\n",
       "\n",
       "    .dataframe thead th {\n",
       "        text-align: right;\n",
       "    }\n",
       "</style>\n",
       "<table border=\"1\" class=\"dataframe\">\n",
       "  <thead>\n",
       "    <tr style=\"text-align: right;\">\n",
       "      <th></th>\n",
       "      <th>y</th>\n",
       "      <th>x</th>\n",
       "    </tr>\n",
       "  </thead>\n",
       "  <tbody>\n",
       "    <tr>\n",
       "      <td>0</td>\n",
       "      <td>5.099239</td>\n",
       "      <td>-1.085631</td>\n",
       "    </tr>\n",
       "    <tr>\n",
       "      <td>1</td>\n",
       "      <td>3.520785</td>\n",
       "      <td>0.997345</td>\n",
       "    </tr>\n",
       "    <tr>\n",
       "      <td>2</td>\n",
       "      <td>5.853754</td>\n",
       "      <td>0.282978</td>\n",
       "    </tr>\n",
       "    <tr>\n",
       "      <td>3</td>\n",
       "      <td>6.845157</td>\n",
       "      <td>-1.506295</td>\n",
       "    </tr>\n",
       "    <tr>\n",
       "      <td>4</td>\n",
       "      <td>4.686074</td>\n",
       "      <td>-0.578600</td>\n",
       "    </tr>\n",
       "  </tbody>\n",
       "</table>\n",
       "</div>"
      ],
      "text/plain": [
       "          y         x\n",
       "0  5.099239 -1.085631\n",
       "1  3.520785  0.997345\n",
       "2  5.853754  0.282978\n",
       "3  6.845157 -1.506295\n",
       "4  4.686074 -0.578600"
      ]
     },
     "execution_count": 176,
     "metadata": {},
     "output_type": "execute_result"
    }
   ],
   "source": [
    "np.random.seed(123)           # for reproducibility\n",
    "\n",
    "N = 100                       # Sample size\n",
    "X = np.c_[np.repeat(1, N), np.random.normal(size = N)]  # a model matrix; first column represents the intercept\n",
    "y = 5 * X[:, 0] + .5 * X[:, 1] + np.random.normal(size = N)  # a target with some noise; truth is y = 5 +.5*x\n",
    "\n",
    "df = pd.DataFrame(np.c_[y, X[:,1]], columns = ['y', 'x'])\n",
    "df.head()"
   ]
  },
  {
   "cell_type": "code",
   "execution_count": 177,
   "metadata": {
    "scrolled": true
   },
   "outputs": [
    {
     "data": {
      "text/plain": [
       "2595.055066494441"
      ]
     },
     "execution_count": 177,
     "metadata": {},
     "output_type": "execute_result"
    }
   ],
   "source": [
    "ls_loss(X, y, beta = [0., 1.])    # guess 1"
   ]
  },
  {
   "cell_type": "code",
   "execution_count": 178,
   "metadata": {},
   "outputs": [
    {
     "data": {
      "text/plain": [
       "1939.0482563455128"
      ]
     },
     "execution_count": 178,
     "metadata": {},
     "output_type": "execute_result"
    }
   ],
   "source": [
    "ls_loss(X, y, beta = [1., 2.])    # guess 2"
   ]
  },
  {
   "cell_type": "code",
   "execution_count": 179,
   "metadata": {},
   "outputs": [
    {
     "data": {
      "text/plain": [
       "198.46475152607633"
      ]
     },
     "execution_count": 179,
     "metadata": {},
     "output_type": "execute_result"
    }
   ],
   "source": [
    "ls_loss(X, y, beta = [4., .25])   # guess 3"
   ]
  },
  {
   "cell_type": "code",
   "execution_count": 180,
   "metadata": {},
   "outputs": [],
   "source": [
    "f = smf.ols('y ~ x', df)          # fit the model and obtain parameter estimates using OLS\n",
    "model = f.fit()"
   ]
  },
  {
   "cell_type": "code",
   "execution_count": 181,
   "metadata": {},
   "outputs": [
    {
     "data": {
      "text/plain": [
       "Intercept    4.980914\n",
       "x            0.483407\n",
       "dtype: float64"
      ]
     },
     "execution_count": 181,
     "metadata": {},
     "output_type": "execute_result"
    }
   ],
   "source": [
    "model.params                      # best guess given the data "
   ]
  },
  {
   "cell_type": "code",
   "execution_count": 182,
   "metadata": {},
   "outputs": [
    {
     "data": {
      "text/plain": [
       "94.06535118757606"
      ]
     },
     "execution_count": 182,
     "metadata": {},
     "output_type": "execute_result"
    }
   ],
   "source": [
    "np.sum(model.resid**2)            # least squares loss"
   ]
  },
  {
   "cell_type": "code",
   "execution_count": 183,
   "metadata": {},
   "outputs": [
    {
     "data": {
      "text/plain": [
       "94.06535118757606"
      ]
     },
     "execution_count": 183,
     "metadata": {},
     "output_type": "execute_result"
    }
   ],
   "source": [
    "ls_loss(X, y, model.params)"
   ]
  },
  {
   "cell_type": "markdown",
   "metadata": {},
   "source": [
    "In some relatively rare cases, a known approach is available and we do not have to search for the best estimates, but simply have to perform the correct steps that will result in them.  For example, the following matrix operations will produce the best estimates for linear regression, which also happen to be the maximum likelihood estimates."
   ]
  },
  {
   "cell_type": "code",
   "execution_count": 184,
   "metadata": {},
   "outputs": [
    {
     "data": {
      "text/plain": [
       "array([4.98091425, 0.48340745])"
      ]
     },
     "execution_count": 184,
     "metadata": {},
     "output_type": "execute_result"
    }
   ],
   "source": [
    "np.linalg.inv(X.T.dot(X)).dot(X.T).dot(y)  # 'normal equations'"
   ]
  },
  {
   "cell_type": "markdown",
   "metadata": {},
   "source": [
    "Many statistical modeling techniques use *maximum likelihood* in some form or fashion, including Bayesian approaches, so you would do well to understand the basics. In this case, instead of minimizing the loss, we use an approach to maximize the probability of the observations of the target variable given the estimates of the parameters of the model (e.g. the coefficients in a regression)"
   ]
  },
  {
   "cell_type": "markdown",
   "metadata": {},
   "source": [
    "Again, some simple conceptual code can help us. The next bit of code follows a similar approach to what we had with least squares regression, but the goal is instead to maximize the likelihood of the observed data. In this example, I fix the estimated variance, but in practice we'd need to estimate that parameter as well.  As probabilities are typically very small, we work with them on the log scale."
   ]
  },
  {
   "cell_type": "code",
   "execution_count": 185,
   "metadata": {},
   "outputs": [],
   "source": [
    "from scipy.stats import norm\n",
    "\n",
    "def max_like(X, y, beta, sigma = 1):\n",
    "    N = X.shape[0]\n",
    "    likelihood  = np.repeat(0., N)\n",
    "    y_hat = np.repeat(0., N)\n",
    "    \n",
    "    for n in range(N):\n",
    "        y_hat[n] = np.sum(X[n]*beta)\n",
    "        likelihood[n]  = norm.logpdf(y[n], y_hat[n], 1)\n",
    "    \n",
    "    return(np.sum(likelihood))"
   ]
  },
  {
   "cell_type": "code",
   "execution_count": 186,
   "metadata": {},
   "outputs": [
    {
     "data": {
      "text/plain": [
       "-1389.4213865676875"
      ]
     },
     "execution_count": 186,
     "metadata": {},
     "output_type": "execute_result"
    }
   ],
   "source": [
    "max_like(X, y, beta = [0., 1.])    # guess 1"
   ]
  },
  {
   "cell_type": "code",
   "execution_count": 187,
   "metadata": {},
   "outputs": [
    {
     "data": {
      "text/plain": [
       "-1061.4179814932236"
      ]
     },
     "execution_count": 187,
     "metadata": {},
     "output_type": "execute_result"
    }
   ],
   "source": [
    "max_like(X, y, beta = [1., 2.])    # guess 2"
   ]
  },
  {
   "cell_type": "code",
   "execution_count": 188,
   "metadata": {},
   "outputs": [
    {
     "data": {
      "text/plain": [
       "-191.12622908350542"
      ]
     },
     "execution_count": 188,
     "metadata": {},
     "output_type": "execute_result"
    }
   ],
   "source": [
    "max_like(X, y, beta = [4., .25])   # guess 3"
   ]
  },
  {
   "cell_type": "code",
   "execution_count": 189,
   "metadata": {},
   "outputs": [
    {
     "data": {
      "text/plain": [
       "-138.8348323266888"
      ]
     },
     "execution_count": 189,
     "metadata": {},
     "output_type": "execute_result"
    }
   ],
   "source": [
    "model.llf"
   ]
  },
  {
   "cell_type": "code",
   "execution_count": 190,
   "metadata": {},
   "outputs": [
    {
     "data": {
      "text/plain": [
       "-138.9265289142553"
      ]
     },
     "execution_count": 190,
     "metadata": {},
     "output_type": "execute_result"
    }
   ],
   "source": [
    "max_like(X, y, model.params)  # difference as estimated sigma is not 1.0"
   ]
  },
  {
   "cell_type": "markdown",
   "metadata": {},
   "source": [
    "## Fitting Models"
   ]
  },
  {
   "cell_type": "markdown",
   "metadata": {},
   "source": [
    "When using `statsmodels` the primary components required to fit a model are the model formula, and a data frame that contains the variables specified in that formula.  Consider the following models. In general the syntax is the similar regardless of package, with special considerations for the type of model. The data argument is not included in these examples, but would be needed."
   ]
  },
  {
   "cell_type": "code",
   "execution_count": null,
   "metadata": {},
   "outputs": [],
   "source": [
    "# glm\n",
    "model = smf.glm(formula, family = sm.families.Binomial())"
   ]
  },
  {
   "cell_type": "code",
   "execution_count": null,
   "metadata": {},
   "outputs": [],
   "source": [
    "# poisson with offset\n",
    "model = smf.glm(\n",
    "    formula, \n",
    "    family = sm.families.Poisson(), \n",
    "    exposure = np.asarray(data['exposure_var']))\n"
   ]
  },
  {
   "cell_type": "code",
   "execution_count": null,
   "metadata": {},
   "outputs": [],
   "source": [
    "# mixed models\n",
    "model = smf.mixedlm(formula, groups = data[\"group_var\"])"
   ]
  },
  {
   "cell_type": "markdown",
   "metadata": {},
   "source": [
    "Let's finally get our hands dirty and run an example. We'll use the world happiness dataset. This is country level data based on surveys taken at various years, and the scores are averages or proportions, along with other values like GDP.  "
   ]
  },
  {
   "cell_type": "code",
   "execution_count": 198,
   "metadata": {},
   "outputs": [
    {
     "data": {
      "text/html": [
       "<div>\n",
       "<style scoped>\n",
       "    .dataframe tbody tr th:only-of-type {\n",
       "        vertical-align: middle;\n",
       "    }\n",
       "\n",
       "    .dataframe tbody tr th {\n",
       "        vertical-align: top;\n",
       "    }\n",
       "\n",
       "    .dataframe thead th {\n",
       "        text-align: right;\n",
       "    }\n",
       "</style>\n",
       "<table border=\"1\" class=\"dataframe\">\n",
       "  <thead>\n",
       "    <tr style=\"text-align: right;\">\n",
       "      <th></th>\n",
       "      <th>year</th>\n",
       "      <th>life_ladder</th>\n",
       "      <th>log_gdp_per_capita</th>\n",
       "      <th>social_support</th>\n",
       "      <th>healthy_life_expectancy_at_birth</th>\n",
       "      <th>freedom_to_make_life_choices</th>\n",
       "      <th>generosity</th>\n",
       "      <th>perceptions_of_corruption</th>\n",
       "      <th>positive_affect</th>\n",
       "      <th>negative_affect</th>\n",
       "      <th>confidence_in_national_government</th>\n",
       "      <th>democratic_quality</th>\n",
       "      <th>delivery_quality</th>\n",
       "      <th>gini_index_world_bank_estimate</th>\n",
       "      <th>happiness_score</th>\n",
       "      <th>dystopia_residual</th>\n",
       "    </tr>\n",
       "  </thead>\n",
       "  <tbody>\n",
       "    <tr>\n",
       "      <td>count</td>\n",
       "      <td>1704.000000</td>\n",
       "      <td>1704.000000</td>\n",
       "      <td>1676.000000</td>\n",
       "      <td>1691.000000</td>\n",
       "      <td>1676.000000</td>\n",
       "      <td>1675.000000</td>\n",
       "      <td>1622.000000</td>\n",
       "      <td>1608.000000</td>\n",
       "      <td>1685.000000</td>\n",
       "      <td>1691.000000</td>\n",
       "      <td>1530.000000</td>\n",
       "      <td>1558.000000</td>\n",
       "      <td>1559.000000</td>\n",
       "      <td>643.000000</td>\n",
       "      <td>554.000000</td>\n",
       "      <td>554.000000</td>\n",
       "    </tr>\n",
       "    <tr>\n",
       "      <td>mean</td>\n",
       "      <td>2012.332160</td>\n",
       "      <td>5.437155</td>\n",
       "      <td>9.222456</td>\n",
       "      <td>0.810570</td>\n",
       "      <td>63.111971</td>\n",
       "      <td>0.733829</td>\n",
       "      <td>0.000079</td>\n",
       "      <td>0.751315</td>\n",
       "      <td>0.709368</td>\n",
       "      <td>0.265679</td>\n",
       "      <td>0.481973</td>\n",
       "      <td>-0.136053</td>\n",
       "      <td>-0.001390</td>\n",
       "      <td>0.370000</td>\n",
       "      <td>5.410409</td>\n",
       "      <td>2.059861</td>\n",
       "    </tr>\n",
       "    <tr>\n",
       "      <td>std</td>\n",
       "      <td>3.688072</td>\n",
       "      <td>1.121149</td>\n",
       "      <td>1.185794</td>\n",
       "      <td>0.119210</td>\n",
       "      <td>7.583622</td>\n",
       "      <td>0.144115</td>\n",
       "      <td>0.163365</td>\n",
       "      <td>0.186074</td>\n",
       "      <td>0.107984</td>\n",
       "      <td>0.084707</td>\n",
       "      <td>0.192059</td>\n",
       "      <td>0.876074</td>\n",
       "      <td>0.975849</td>\n",
       "      <td>0.083232</td>\n",
       "      <td>1.130121</td>\n",
       "      <td>0.550848</td>\n",
       "    </tr>\n",
       "    <tr>\n",
       "      <td>min</td>\n",
       "      <td>2005.000000</td>\n",
       "      <td>2.661718</td>\n",
       "      <td>6.457201</td>\n",
       "      <td>0.290184</td>\n",
       "      <td>32.299999</td>\n",
       "      <td>0.257534</td>\n",
       "      <td>-0.336385</td>\n",
       "      <td>0.035198</td>\n",
       "      <td>0.362498</td>\n",
       "      <td>0.083426</td>\n",
       "      <td>0.068769</td>\n",
       "      <td>-2.448228</td>\n",
       "      <td>-2.144974</td>\n",
       "      <td>0.240000</td>\n",
       "      <td>2.693000</td>\n",
       "      <td>0.291651</td>\n",
       "    </tr>\n",
       "    <tr>\n",
       "      <td>25%</td>\n",
       "      <td>2009.000000</td>\n",
       "      <td>4.610970</td>\n",
       "      <td>8.304428</td>\n",
       "      <td>0.747512</td>\n",
       "      <td>58.299999</td>\n",
       "      <td>0.638436</td>\n",
       "      <td>-0.115534</td>\n",
       "      <td>0.696083</td>\n",
       "      <td>0.621855</td>\n",
       "      <td>0.205414</td>\n",
       "      <td>0.334735</td>\n",
       "      <td>-0.790461</td>\n",
       "      <td>-0.711416</td>\n",
       "      <td>0.305000</td>\n",
       "      <td>4.513250</td>\n",
       "      <td>1.723459</td>\n",
       "    </tr>\n",
       "    <tr>\n",
       "      <td>50%</td>\n",
       "      <td>2012.000000</td>\n",
       "      <td>5.339557</td>\n",
       "      <td>9.406206</td>\n",
       "      <td>0.833098</td>\n",
       "      <td>65.000000</td>\n",
       "      <td>0.752731</td>\n",
       "      <td>-0.022080</td>\n",
       "      <td>0.805775</td>\n",
       "      <td>0.718541</td>\n",
       "      <td>0.254544</td>\n",
       "      <td>0.464109</td>\n",
       "      <td>-0.227386</td>\n",
       "      <td>-0.218633</td>\n",
       "      <td>0.352000</td>\n",
       "      <td>5.312500</td>\n",
       "      <td>2.064439</td>\n",
       "    </tr>\n",
       "    <tr>\n",
       "      <td>75%</td>\n",
       "      <td>2015.000000</td>\n",
       "      <td>6.273522</td>\n",
       "      <td>10.193060</td>\n",
       "      <td>0.904432</td>\n",
       "      <td>68.300003</td>\n",
       "      <td>0.848155</td>\n",
       "      <td>0.093522</td>\n",
       "      <td>0.876458</td>\n",
       "      <td>0.801530</td>\n",
       "      <td>0.314896</td>\n",
       "      <td>0.614862</td>\n",
       "      <td>0.650468</td>\n",
       "      <td>0.699971</td>\n",
       "      <td>0.428000</td>\n",
       "      <td>6.323525</td>\n",
       "      <td>2.436582</td>\n",
       "    </tr>\n",
       "    <tr>\n",
       "      <td>max</td>\n",
       "      <td>2018.000000</td>\n",
       "      <td>8.018934</td>\n",
       "      <td>11.770276</td>\n",
       "      <td>0.987343</td>\n",
       "      <td>76.800003</td>\n",
       "      <td>0.985178</td>\n",
       "      <td>0.677743</td>\n",
       "      <td>0.983276</td>\n",
       "      <td>0.943621</td>\n",
       "      <td>0.704590</td>\n",
       "      <td>0.993604</td>\n",
       "      <td>1.575009</td>\n",
       "      <td>2.184725</td>\n",
       "      <td>0.634000</td>\n",
       "      <td>7.632100</td>\n",
       "      <td>3.837715</td>\n",
       "    </tr>\n",
       "  </tbody>\n",
       "</table>\n",
       "</div>"
      ],
      "text/plain": [
       "              year  life_ladder  log_gdp_per_capita  social_support  \\\n",
       "count  1704.000000  1704.000000         1676.000000     1691.000000   \n",
       "mean   2012.332160     5.437155            9.222456        0.810570   \n",
       "std       3.688072     1.121149            1.185794        0.119210   \n",
       "min    2005.000000     2.661718            6.457201        0.290184   \n",
       "25%    2009.000000     4.610970            8.304428        0.747512   \n",
       "50%    2012.000000     5.339557            9.406206        0.833098   \n",
       "75%    2015.000000     6.273522           10.193060        0.904432   \n",
       "max    2018.000000     8.018934           11.770276        0.987343   \n",
       "\n",
       "       healthy_life_expectancy_at_birth  freedom_to_make_life_choices  \\\n",
       "count                       1676.000000                   1675.000000   \n",
       "mean                          63.111971                      0.733829   \n",
       "std                            7.583622                      0.144115   \n",
       "min                           32.299999                      0.257534   \n",
       "25%                           58.299999                      0.638436   \n",
       "50%                           65.000000                      0.752731   \n",
       "75%                           68.300003                      0.848155   \n",
       "max                           76.800003                      0.985178   \n",
       "\n",
       "        generosity  perceptions_of_corruption  positive_affect  \\\n",
       "count  1622.000000                1608.000000      1685.000000   \n",
       "mean      0.000079                   0.751315         0.709368   \n",
       "std       0.163365                   0.186074         0.107984   \n",
       "min      -0.336385                   0.035198         0.362498   \n",
       "25%      -0.115534                   0.696083         0.621855   \n",
       "50%      -0.022080                   0.805775         0.718541   \n",
       "75%       0.093522                   0.876458         0.801530   \n",
       "max       0.677743                   0.983276         0.943621   \n",
       "\n",
       "       negative_affect  confidence_in_national_government  democratic_quality  \\\n",
       "count      1691.000000                        1530.000000         1558.000000   \n",
       "mean          0.265679                           0.481973           -0.136053   \n",
       "std           0.084707                           0.192059            0.876074   \n",
       "min           0.083426                           0.068769           -2.448228   \n",
       "25%           0.205414                           0.334735           -0.790461   \n",
       "50%           0.254544                           0.464109           -0.227386   \n",
       "75%           0.314896                           0.614862            0.650468   \n",
       "max           0.704590                           0.993604            1.575009   \n",
       "\n",
       "       delivery_quality  gini_index_world_bank_estimate  happiness_score  \\\n",
       "count       1559.000000                      643.000000       554.000000   \n",
       "mean          -0.001390                        0.370000         5.410409   \n",
       "std            0.975849                        0.083232         1.130121   \n",
       "min           -2.144974                        0.240000         2.693000   \n",
       "25%           -0.711416                        0.305000         4.513250   \n",
       "50%           -0.218633                        0.352000         5.312500   \n",
       "75%            0.699971                        0.428000         6.323525   \n",
       "max            2.184725                        0.634000         7.632100   \n",
       "\n",
       "       dystopia_residual  \n",
       "count         554.000000  \n",
       "mean            2.059861  \n",
       "std             0.550848  \n",
       "min             0.291651  \n",
       "25%             1.723459  \n",
       "50%             2.064439  \n",
       "75%             2.436582  \n",
       "max             3.837715  "
      ]
     },
     "execution_count": 198,
     "metadata": {},
     "output_type": "execute_result"
    }
   ],
   "source": [
    "happy = pd.read_csv('data/world_hapiness.csv')\n",
    "happy.describe()"
   ]
  },
  {
   "cell_type": "markdown",
   "metadata": {},
   "source": [
    "Fitting a model with statsmodels and a pandas data frame is pretty easy, and at a minimum requires the two key ingredients mentioned before, the formula and data."
   ]
  },
  {
   "cell_type": "code",
   "execution_count": 200,
   "metadata": {},
   "outputs": [],
   "source": [
    "happy_model_base = smf.ols(\n",
    "  'happiness_score ~ democratic_quality + generosity + log_gdp_per_capita',\n",
    "  data = happy\n",
    ").fit()"
   ]
  },
  {
   "cell_type": "markdown",
   "metadata": {},
   "source": [
    "### Using Matrices"
   ]
  },
  {
   "cell_type": "markdown",
   "metadata": {},
   "source": [
    "Unlike R, many if not most Python modeling approaches will expect matrix input rather than a formula + data frame, so you should feel comfortable with that approach. For example, we can use sm.ols as before, and as we did, we'd  need to create the required components.  "
   ]
  },
  {
   "cell_type": "code",
   "execution_count": 204,
   "metadata": {},
   "outputs": [
    {
     "data": {
      "text/plain": [
       "<statsmodels.regression.linear_model.RegressionResultsWrapper at 0x7fba398b4cd0>"
      ]
     },
     "execution_count": 204,
     "metadata": {},
     "output_type": "execute_result"
    }
   ],
   "source": [
    "sm.OLS(y, X).fit()"
   ]
  },
  {
   "cell_type": "markdown",
   "metadata": {},
   "source": [
    "## Summarizing Models"
   ]
  },
  {
   "cell_type": "markdown",
   "metadata": {},
   "source": [
    "Once we have a model, we'll want to summarize the results of it. Most modeling packages have a summary method we can apply, which will provide parameter estimates, some notion of model fit, inferential statistics, and other output."
   ]
  },
  {
   "cell_type": "code",
   "execution_count": 203,
   "metadata": {
    "scrolled": true
   },
   "outputs": [
    {
     "data": {
      "text/html": [
       "<table class=\"simpletable\">\n",
       "<caption>OLS Regression Results</caption>\n",
       "<tr>\n",
       "  <th>Dep. Variable:</th>     <td>happiness_score</td> <th>  R-squared:         </th> <td>   0.695</td> \n",
       "</tr>\n",
       "<tr>\n",
       "  <th>Model:</th>                   <td>OLS</td>       <th>  Adj. R-squared:    </th> <td>   0.693</td> \n",
       "</tr>\n",
       "<tr>\n",
       "  <th>Method:</th>             <td>Least Squares</td>  <th>  F-statistic:       </th> <td>   309.6</td> \n",
       "</tr>\n",
       "<tr>\n",
       "  <th>Date:</th>             <td>Mon, 24 Feb 2020</td> <th>  Prob (F-statistic):</th> <td>1.24e-104</td>\n",
       "</tr>\n",
       "<tr>\n",
       "  <th>Time:</th>                 <td>14:18:30</td>     <th>  Log-Likelihood:    </th> <td> -390.15</td> \n",
       "</tr>\n",
       "<tr>\n",
       "  <th>No. Observations:</th>      <td>   411</td>      <th>  AIC:               </th> <td>   788.3</td> \n",
       "</tr>\n",
       "<tr>\n",
       "  <th>Df Residuals:</th>          <td>   407</td>      <th>  BIC:               </th> <td>   804.4</td> \n",
       "</tr>\n",
       "<tr>\n",
       "  <th>Df Model:</th>              <td>     3</td>      <th>                     </th>     <td> </td>    \n",
       "</tr>\n",
       "<tr>\n",
       "  <th>Covariance Type:</th>      <td>nonrobust</td>    <th>                     </th>     <td> </td>    \n",
       "</tr>\n",
       "</table>\n",
       "<table class=\"simpletable\">\n",
       "<tr>\n",
       "           <td></td>             <th>coef</th>     <th>std err</th>      <th>t</th>      <th>P>|t|</th>  <th>[0.025</th>    <th>0.975]</th>  \n",
       "</tr>\n",
       "<tr>\n",
       "  <th>Intercept</th>          <td>   -1.0105</td> <td>    0.314</td> <td>   -3.214</td> <td> 0.001</td> <td>   -1.628</td> <td>   -0.393</td>\n",
       "</tr>\n",
       "<tr>\n",
       "  <th>democratic_quality</th> <td>    0.1704</td> <td>    0.046</td> <td>    3.714</td> <td> 0.000</td> <td>    0.080</td> <td>    0.261</td>\n",
       "</tr>\n",
       "<tr>\n",
       "  <th>generosity</th>         <td>    1.1608</td> <td>    0.195</td> <td>    5.938</td> <td> 0.000</td> <td>    0.777</td> <td>    1.545</td>\n",
       "</tr>\n",
       "<tr>\n",
       "  <th>log_gdp_per_capita</th> <td>    0.6934</td> <td>    0.033</td> <td>   20.792</td> <td> 0.000</td> <td>    0.628</td> <td>    0.759</td>\n",
       "</tr>\n",
       "</table>\n",
       "<table class=\"simpletable\">\n",
       "<tr>\n",
       "  <th>Omnibus:</th>       <td> 3.428</td> <th>  Durbin-Watson:     </th> <td>   0.809</td>\n",
       "</tr>\n",
       "<tr>\n",
       "  <th>Prob(Omnibus):</th> <td> 0.180</td> <th>  Jarque-Bera (JB):  </th> <td>   2.731</td>\n",
       "</tr>\n",
       "<tr>\n",
       "  <th>Skew:</th>          <td> 0.075</td> <th>  Prob(JB):          </th> <td>   0.255</td>\n",
       "</tr>\n",
       "<tr>\n",
       "  <th>Kurtosis:</th>      <td> 2.630</td> <th>  Cond. No.          </th> <td>    96.7</td>\n",
       "</tr>\n",
       "</table><br/><br/>Warnings:<br/>[1] Standard Errors assume that the covariance matrix of the errors is correctly specified."
      ],
      "text/plain": [
       "<class 'statsmodels.iolib.summary.Summary'>\n",
       "\"\"\"\n",
       "                            OLS Regression Results                            \n",
       "==============================================================================\n",
       "Dep. Variable:        happiness_score   R-squared:                       0.695\n",
       "Model:                            OLS   Adj. R-squared:                  0.693\n",
       "Method:                 Least Squares   F-statistic:                     309.6\n",
       "Date:                Mon, 24 Feb 2020   Prob (F-statistic):          1.24e-104\n",
       "Time:                        14:18:30   Log-Likelihood:                -390.15\n",
       "No. Observations:                 411   AIC:                             788.3\n",
       "Df Residuals:                     407   BIC:                             804.4\n",
       "Df Model:                           3                                         \n",
       "Covariance Type:            nonrobust                                         \n",
       "======================================================================================\n",
       "                         coef    std err          t      P>|t|      [0.025      0.975]\n",
       "--------------------------------------------------------------------------------------\n",
       "Intercept             -1.0105      0.314     -3.214      0.001      -1.628      -0.393\n",
       "democratic_quality     0.1704      0.046      3.714      0.000       0.080       0.261\n",
       "generosity             1.1608      0.195      5.938      0.000       0.777       1.545\n",
       "log_gdp_per_capita     0.6934      0.033     20.792      0.000       0.628       0.759\n",
       "==============================================================================\n",
       "Omnibus:                        3.428   Durbin-Watson:                   0.809\n",
       "Prob(Omnibus):                  0.180   Jarque-Bera (JB):                2.731\n",
       "Skew:                           0.075   Prob(JB):                        0.255\n",
       "Kurtosis:                       2.630   Cond. No.                         96.7\n",
       "==============================================================================\n",
       "\n",
       "Warnings:\n",
       "[1] Standard Errors assume that the covariance matrix of the errors is correctly specified.\n",
       "\"\"\""
      ]
     },
     "execution_count": 203,
     "metadata": {},
     "output_type": "execute_result"
    }
   ],
   "source": [
    "happy_model_base_sum = happy_model_base.summary()\n",
    "\n",
    "happy_model_base_sum"
   ]
  },
  {
   "cell_type": "markdown",
   "metadata": {},
   "source": [
    "The summary provides several pieces of information: the coefficients or weights (`coef`), the standard errors (`std err`), the t-statistic (which is just the coefficient divided by the standard error), and the corresponding p-value.  The main thing to look at are the actual coefficients and the direction of their relationship, positive or negative. For example, with regard to the effect of democratic quality, moving one point on democratic quality results in roughly .17 units of happiness."
   ]
  },
  {
   "cell_type": "markdown",
   "metadata": {},
   "source": [
    "One thing we must also have in order to understand our results is to get a sense of the uncertainty in the effects.  The summary provides confidence intervals for each of the coefficients, and with them, we have a sense of the range of plausible values for the coefficients. We can also obtain it as follows."
   ]
  },
  {
   "cell_type": "code",
   "execution_count": 225,
   "metadata": {},
   "outputs": [
    {
     "data": {
      "text/html": [
       "<div>\n",
       "<style scoped>\n",
       "    .dataframe tbody tr th:only-of-type {\n",
       "        vertical-align: middle;\n",
       "    }\n",
       "\n",
       "    .dataframe tbody tr th {\n",
       "        vertical-align: top;\n",
       "    }\n",
       "\n",
       "    .dataframe thead th {\n",
       "        text-align: right;\n",
       "    }\n",
       "</style>\n",
       "<table border=\"1\" class=\"dataframe\">\n",
       "  <thead>\n",
       "    <tr style=\"text-align: right;\">\n",
       "      <th></th>\n",
       "      <th>0</th>\n",
       "      <th>1</th>\n",
       "    </tr>\n",
       "  </thead>\n",
       "  <tbody>\n",
       "    <tr>\n",
       "      <td>Intercept</td>\n",
       "      <td>-1.628455</td>\n",
       "      <td>-0.392500</td>\n",
       "    </tr>\n",
       "    <tr>\n",
       "      <td>democratic_quality</td>\n",
       "      <td>0.080188</td>\n",
       "      <td>0.260559</td>\n",
       "    </tr>\n",
       "    <tr>\n",
       "      <td>generosity</td>\n",
       "      <td>0.776562</td>\n",
       "      <td>1.545131</td>\n",
       "    </tr>\n",
       "    <tr>\n",
       "      <td>log_gdp_per_capita</td>\n",
       "      <td>0.627862</td>\n",
       "      <td>0.758981</td>\n",
       "    </tr>\n",
       "  </tbody>\n",
       "</table>\n",
       "</div>"
      ],
      "text/plain": [
       "                           0         1\n",
       "Intercept          -1.628455 -0.392500\n",
       "democratic_quality  0.080188  0.260559\n",
       "generosity          0.776562  1.545131\n",
       "log_gdp_per_capita  0.627862  0.758981"
      ]
     },
     "execution_count": 225,
     "metadata": {},
     "output_type": "execute_result"
    }
   ],
   "source": [
    "happy_model_base.conf_int()"
   ]
  },
  {
   "cell_type": "markdown",
   "metadata": {},
   "source": [
    "The value we actually estimate is the best guess given our circumstances, but slight changes in the data, the way we collect it, the time we collect it, etc., all would result in a slightly different result. The confidence interval provides a range of what we could expect given the uncertainty, and, given its importance, you should always report it.  In fact, just showing the coefficient and the interval would be better than typical reporting of the statistical test results, though you can do both."
   ]
  },
  {
   "cell_type": "markdown",
   "metadata": {},
   "source": [
    "## Variable Transformations"
   ]
  },
  {
   "cell_type": "markdown",
   "metadata": {},
   "source": [
    "Transforming variables can provide a few benefits, whether applied to the target, covariates, or both, and should regularly be used for most models. Some of these benefits include:\n",
    "\n",
    "- Interpretable intercepts\n",
    "- More comparable covariate effects\n",
    "- Faster estimation\n",
    "- Easier convergence\n",
    "- Help with heteroscedasticity\n",
    "\n",
    "For example, merely centering predictor variables, i.e. subtracting the mean, provides a more interpretable intercept that will fall within the actual range of the target variable, telling us what the value of the target variable is when the covariates are at their means (or reference value if categorical).  "
   ]
  },
  {
   "cell_type": "markdown",
   "metadata": {},
   "source": [
    "### Numeric variables"
   ]
  },
  {
   "cell_type": "markdown",
   "metadata": {},
   "source": [
    "Two extremely common transformations applied to numeric variables- logging and scaling.  We can, and typically should apply these to the data beforehand, and this will usually be done with `numpy` and other tools.  You can do them in statsmodels formulas though also."
   ]
  },
  {
   "cell_type": "code",
   "execution_count": 211,
   "metadata": {},
   "outputs": [
    {
     "data": {
      "text/plain": [
       "<statsmodels.regression.linear_model.OLS at 0x7fba39921d10>"
      ]
     },
     "execution_count": 211,
     "metadata": {},
     "output_type": "execute_result"
    }
   ],
   "source": [
    "smf.ols(\n",
    "  'happiness_score ~ np.log(democratic_quality) + generosity + log_gdp_per_capita',\n",
    "  data = happy\n",
    ")"
   ]
  },
  {
   "cell_type": "markdown",
   "metadata": {},
   "source": [
    "### Categorical variables"
   ]
  },
  {
   "cell_type": "markdown",
   "metadata": {},
   "source": [
    "A raw character string is not an analyzable unit, so character strings and labeled variables like factors must be converted for analysis to be conducted on them. For categorical variables, we can employ what is called *effects coding* to test for specific types of group differences.  Far and away the most common approach is called *dummy coding* or *one-hot encoding*.  In the next example, we will use dummy coding via pandas.  statsmodels will recognize the categorical type from the pandas data frame and do the coding behind the scenes."
   ]
  },
  {
   "cell_type": "code",
   "execution_count": 220,
   "metadata": {
    "scrolled": true
   },
   "outputs": [
    {
     "data": {
      "text/html": [
       "<div>\n",
       "<style scoped>\n",
       "    .dataframe tbody tr th:only-of-type {\n",
       "        vertical-align: middle;\n",
       "    }\n",
       "\n",
       "    .dataframe tbody tr th {\n",
       "        vertical-align: top;\n",
       "    }\n",
       "\n",
       "    .dataframe thead th {\n",
       "        text-align: right;\n",
       "    }\n",
       "</style>\n",
       "<table border=\"1\" class=\"dataframe\">\n",
       "  <thead>\n",
       "    <tr style=\"text-align: right;\">\n",
       "      <th></th>\n",
       "      <th>country</th>\n",
       "      <th>year</th>\n",
       "      <th>life_ladder</th>\n",
       "      <th>log_gdp_per_capita</th>\n",
       "      <th>social_support</th>\n",
       "      <th>healthy_life_expectancy_at_birth</th>\n",
       "      <th>freedom_to_make_life_choices</th>\n",
       "      <th>generosity</th>\n",
       "      <th>perceptions_of_corruption</th>\n",
       "      <th>positive_affect</th>\n",
       "      <th>negative_affect</th>\n",
       "      <th>confidence_in_national_government</th>\n",
       "      <th>democratic_quality</th>\n",
       "      <th>delivery_quality</th>\n",
       "      <th>gini_index_world_bank_estimate</th>\n",
       "      <th>happiness_score</th>\n",
       "      <th>dystopia_residual</th>\n",
       "    </tr>\n",
       "  </thead>\n",
       "  <tbody>\n",
       "    <tr>\n",
       "      <td>1612</td>\n",
       "      <td>United States</td>\n",
       "      <td>2014</td>\n",
       "      <td>7.151114</td>\n",
       "      <td>10.857497</td>\n",
       "      <td>0.902097</td>\n",
       "      <td>68.620003</td>\n",
       "      <td>0.866077</td>\n",
       "      <td>0.212869</td>\n",
       "      <td>0.702267</td>\n",
       "      <td>0.834294</td>\n",
       "      <td>0.281265</td>\n",
       "      <td>0.348671</td>\n",
       "      <td>0.826821</td>\n",
       "      <td>1.433888</td>\n",
       "      <td>NaN</td>\n",
       "      <td>NaN</td>\n",
       "      <td>NaN</td>\n",
       "    </tr>\n",
       "    <tr>\n",
       "      <td>1613</td>\n",
       "      <td>United States</td>\n",
       "      <td>2015</td>\n",
       "      <td>6.863947</td>\n",
       "      <td>10.878154</td>\n",
       "      <td>0.903571</td>\n",
       "      <td>68.599998</td>\n",
       "      <td>0.848753</td>\n",
       "      <td>0.210956</td>\n",
       "      <td>0.697543</td>\n",
       "      <td>0.813908</td>\n",
       "      <td>0.274688</td>\n",
       "      <td>0.346936</td>\n",
       "      <td>0.893903</td>\n",
       "      <td>1.428245</td>\n",
       "      <td>NaN</td>\n",
       "      <td>7.119</td>\n",
       "      <td>2.510109</td>\n",
       "    </tr>\n",
       "    <tr>\n",
       "      <td>1614</td>\n",
       "      <td>United States</td>\n",
       "      <td>2016</td>\n",
       "      <td>6.803600</td>\n",
       "      <td>10.885554</td>\n",
       "      <td>0.896751</td>\n",
       "      <td>68.500000</td>\n",
       "      <td>0.757893</td>\n",
       "      <td>0.135592</td>\n",
       "      <td>0.738920</td>\n",
       "      <td>0.805674</td>\n",
       "      <td>0.264204</td>\n",
       "      <td>0.297206</td>\n",
       "      <td>0.755765</td>\n",
       "      <td>1.491426</td>\n",
       "      <td>0.415</td>\n",
       "      <td>7.104</td>\n",
       "      <td>2.727815</td>\n",
       "    </tr>\n",
       "    <tr>\n",
       "      <td>1615</td>\n",
       "      <td>United States</td>\n",
       "      <td>2017</td>\n",
       "      <td>6.991759</td>\n",
       "      <td>10.900906</td>\n",
       "      <td>0.921003</td>\n",
       "      <td>68.400002</td>\n",
       "      <td>0.868497</td>\n",
       "      <td>0.188833</td>\n",
       "      <td>0.681191</td>\n",
       "      <td>0.826555</td>\n",
       "      <td>0.268269</td>\n",
       "      <td>0.386535</td>\n",
       "      <td>0.677056</td>\n",
       "      <td>1.552135</td>\n",
       "      <td>NaN</td>\n",
       "      <td>6.993</td>\n",
       "      <td>2.218113</td>\n",
       "    </tr>\n",
       "    <tr>\n",
       "      <td>1616</td>\n",
       "      <td>United States</td>\n",
       "      <td>2018</td>\n",
       "      <td>6.882685</td>\n",
       "      <td>10.922465</td>\n",
       "      <td>0.903856</td>\n",
       "      <td>68.300003</td>\n",
       "      <td>0.824607</td>\n",
       "      <td>0.107713</td>\n",
       "      <td>0.709928</td>\n",
       "      <td>0.815383</td>\n",
       "      <td>0.292226</td>\n",
       "      <td>0.313816</td>\n",
       "      <td>NaN</td>\n",
       "      <td>NaN</td>\n",
       "      <td>NaN</td>\n",
       "      <td>6.886</td>\n",
       "      <td>2.227151</td>\n",
       "    </tr>\n",
       "  </tbody>\n",
       "</table>\n",
       "</div>"
      ],
      "text/plain": [
       "            country  year  life_ladder  log_gdp_per_capita  social_support  \\\n",
       "1612  United States  2014     7.151114           10.857497        0.902097   \n",
       "1613  United States  2015     6.863947           10.878154        0.903571   \n",
       "1614  United States  2016     6.803600           10.885554        0.896751   \n",
       "1615  United States  2017     6.991759           10.900906        0.921003   \n",
       "1616  United States  2018     6.882685           10.922465        0.903856   \n",
       "\n",
       "      healthy_life_expectancy_at_birth  freedom_to_make_life_choices  \\\n",
       "1612                         68.620003                      0.866077   \n",
       "1613                         68.599998                      0.848753   \n",
       "1614                         68.500000                      0.757893   \n",
       "1615                         68.400002                      0.868497   \n",
       "1616                         68.300003                      0.824607   \n",
       "\n",
       "      generosity  perceptions_of_corruption  positive_affect  negative_affect  \\\n",
       "1612    0.212869                   0.702267         0.834294         0.281265   \n",
       "1613    0.210956                   0.697543         0.813908         0.274688   \n",
       "1614    0.135592                   0.738920         0.805674         0.264204   \n",
       "1615    0.188833                   0.681191         0.826555         0.268269   \n",
       "1616    0.107713                   0.709928         0.815383         0.292226   \n",
       "\n",
       "      confidence_in_national_government  democratic_quality  delivery_quality  \\\n",
       "1612                           0.348671            0.826821          1.433888   \n",
       "1613                           0.346936            0.893903          1.428245   \n",
       "1614                           0.297206            0.755765          1.491426   \n",
       "1615                           0.386535            0.677056          1.552135   \n",
       "1616                           0.313816                 NaN               NaN   \n",
       "\n",
       "      gini_index_world_bank_estimate  happiness_score  dystopia_residual  \n",
       "1612                             NaN              NaN                NaN  \n",
       "1613                             NaN            7.119           2.510109  \n",
       "1614                           0.415            7.104           2.727815  \n",
       "1615                             NaN            6.993           2.218113  \n",
       "1616                             NaN            6.886           2.227151  "
      ]
     },
     "execution_count": 220,
     "metadata": {},
     "output_type": "execute_result"
    }
   ],
   "source": [
    "nafta = happy[happy.country.isin(['United States', 'Canada', 'Mexico'])]\n",
    "nafta.head()"
   ]
  },
  {
   "cell_type": "code",
   "execution_count": 233,
   "metadata": {},
   "outputs": [
    {
     "data": {
      "text/html": [
       "<table class=\"simpletable\">\n",
       "<caption>OLS Regression Results</caption>\n",
       "<tr>\n",
       "  <th>Dep. Variable:</th>     <td>happiness_score</td> <th>  R-squared:         </th> <td>   0.692</td>\n",
       "</tr>\n",
       "<tr>\n",
       "  <th>Model:</th>                   <td>OLS</td>       <th>  Adj. R-squared:    </th> <td>   0.624</td>\n",
       "</tr>\n",
       "<tr>\n",
       "  <th>Method:</th>             <td>Least Squares</td>  <th>  F-statistic:       </th> <td>   10.11</td>\n",
       "</tr>\n",
       "<tr>\n",
       "  <th>Date:</th>             <td>Mon, 24 Feb 2020</td> <th>  Prob (F-statistic):</th>  <td>0.00499</td>\n",
       "</tr>\n",
       "<tr>\n",
       "  <th>Time:</th>                 <td>16:15:48</td>     <th>  Log-Likelihood:    </th> <td>  4.4602</td>\n",
       "</tr>\n",
       "<tr>\n",
       "  <th>No. Observations:</th>      <td>    12</td>      <th>  AIC:               </th> <td>  -2.920</td>\n",
       "</tr>\n",
       "<tr>\n",
       "  <th>Df Residuals:</th>          <td>     9</td>      <th>  BIC:               </th> <td>  -1.466</td>\n",
       "</tr>\n",
       "<tr>\n",
       "  <th>Df Model:</th>              <td>     2</td>      <th>                     </th>     <td> </td>   \n",
       "</tr>\n",
       "<tr>\n",
       "  <th>Covariance Type:</th>      <td>nonrobust</td>    <th>                     </th>     <td> </td>   \n",
       "</tr>\n",
       "</table>\n",
       "<table class=\"simpletable\">\n",
       "<tr>\n",
       "              <td></td>                <th>coef</th>     <th>std err</th>      <th>t</th>      <th>P>|t|</th>  <th>[0.025</th>    <th>0.975]</th>  \n",
       "</tr>\n",
       "<tr>\n",
       "  <th>Intercept</th>                <td>    7.3689</td> <td>    0.096</td> <td>   76.493</td> <td> 0.000</td> <td>    7.151</td> <td>    7.587</td>\n",
       "</tr>\n",
       "<tr>\n",
       "  <th>country[T.Mexico]</th>        <td>   -0.6111</td> <td>    0.136</td> <td>   -4.485</td> <td> 0.002</td> <td>   -0.919</td> <td>   -0.303</td>\n",
       "</tr>\n",
       "<tr>\n",
       "  <th>country[T.United States]</th> <td>   -0.3434</td> <td>    0.136</td> <td>   -2.520</td> <td> 0.033</td> <td>   -0.652</td> <td>   -0.035</td>\n",
       "</tr>\n",
       "</table>\n",
       "<table class=\"simpletable\">\n",
       "<tr>\n",
       "  <th>Omnibus:</th>       <td> 6.533</td> <th>  Durbin-Watson:     </th> <td>   1.796</td>\n",
       "</tr>\n",
       "<tr>\n",
       "  <th>Prob(Omnibus):</th> <td> 0.038</td> <th>  Jarque-Bera (JB):  </th> <td>   2.715</td>\n",
       "</tr>\n",
       "<tr>\n",
       "  <th>Skew:</th>          <td> 0.937</td> <th>  Prob(JB):          </th> <td>   0.257</td>\n",
       "</tr>\n",
       "<tr>\n",
       "  <th>Kurtosis:</th>      <td> 4.384</td> <th>  Cond. No.          </th> <td>    3.73</td>\n",
       "</tr>\n",
       "</table><br/><br/>Warnings:<br/>[1] Standard Errors assume that the covariance matrix of the errors is correctly specified."
      ],
      "text/plain": [
       "<class 'statsmodels.iolib.summary.Summary'>\n",
       "\"\"\"\n",
       "                            OLS Regression Results                            \n",
       "==============================================================================\n",
       "Dep. Variable:        happiness_score   R-squared:                       0.692\n",
       "Model:                            OLS   Adj. R-squared:                  0.624\n",
       "Method:                 Least Squares   F-statistic:                     10.11\n",
       "Date:                Mon, 24 Feb 2020   Prob (F-statistic):            0.00499\n",
       "Time:                        16:15:48   Log-Likelihood:                 4.4602\n",
       "No. Observations:                  12   AIC:                            -2.920\n",
       "Df Residuals:                       9   BIC:                            -1.466\n",
       "Df Model:                           2                                         \n",
       "Covariance Type:            nonrobust                                         \n",
       "============================================================================================\n",
       "                               coef    std err          t      P>|t|      [0.025      0.975]\n",
       "--------------------------------------------------------------------------------------------\n",
       "Intercept                    7.3689      0.096     76.493      0.000       7.151       7.587\n",
       "country[T.Mexico]           -0.6111      0.136     -4.485      0.002      -0.919      -0.303\n",
       "country[T.United States]    -0.3434      0.136     -2.520      0.033      -0.652      -0.035\n",
       "==============================================================================\n",
       "Omnibus:                        6.533   Durbin-Watson:                   1.796\n",
       "Prob(Omnibus):                  0.038   Jarque-Bera (JB):                2.715\n",
       "Skew:                           0.937   Prob(JB):                        0.257\n",
       "Kurtosis:                       4.384   Cond. No.                         3.73\n",
       "==============================================================================\n",
       "\n",
       "Warnings:\n",
       "[1] Standard Errors assume that the covariance matrix of the errors is correctly specified.\n",
       "\"\"\""
      ]
     },
     "execution_count": 233,
     "metadata": {},
     "output_type": "execute_result"
    }
   ],
   "source": [
    "smf.ols('happiness_score ~ country', data = nafta).fit().summary()"
   ]
  },
  {
   "cell_type": "markdown",
   "metadata": {},
   "source": [
    "In this case, the coefficient represents the difference in means on the target variable between the reference group and the group in question.  In this case, the U.S. is .34 less on the happy score than the reference country (Canada).\n",
    "\n",
    "Other codings are possible, and these would allow for specific group comparisons or types of comparisons.  This is sometimes called *contrast coding*.  For example, we could compare each group to the overall mean using [Sum coding](https://www.statsmodels.org/dev/contrasts.html)."
   ]
  },
  {
   "cell_type": "code",
   "execution_count": 232,
   "metadata": {},
   "outputs": [
    {
     "name": "stdout",
     "output_type": "stream",
     "text": [
      "[[ 1.  0.]\n",
      " [ 0.  1.]\n",
      " [-1. -1.]]\n"
     ]
    },
    {
     "data": {
      "text/html": [
       "<table class=\"simpletable\">\n",
       "<caption>OLS Regression Results</caption>\n",
       "<tr>\n",
       "  <th>Dep. Variable:</th>     <td>happiness_score</td> <th>  R-squared:         </th> <td>   0.692</td>\n",
       "</tr>\n",
       "<tr>\n",
       "  <th>Model:</th>                   <td>OLS</td>       <th>  Adj. R-squared:    </th> <td>   0.624</td>\n",
       "</tr>\n",
       "<tr>\n",
       "  <th>Method:</th>             <td>Least Squares</td>  <th>  F-statistic:       </th> <td>   10.11</td>\n",
       "</tr>\n",
       "<tr>\n",
       "  <th>Date:</th>             <td>Mon, 24 Feb 2020</td> <th>  Prob (F-statistic):</th>  <td>0.00499</td>\n",
       "</tr>\n",
       "<tr>\n",
       "  <th>Time:</th>                 <td>16:14:34</td>     <th>  Log-Likelihood:    </th> <td>  4.4602</td>\n",
       "</tr>\n",
       "<tr>\n",
       "  <th>No. Observations:</th>      <td>    12</td>      <th>  AIC:               </th> <td>  -2.920</td>\n",
       "</tr>\n",
       "<tr>\n",
       "  <th>Df Residuals:</th>          <td>     9</td>      <th>  BIC:               </th> <td>  -1.466</td>\n",
       "</tr>\n",
       "<tr>\n",
       "  <th>Df Model:</th>              <td>     2</td>      <th>                     </th>     <td> </td>   \n",
       "</tr>\n",
       "<tr>\n",
       "  <th>Covariance Type:</th>      <td>nonrobust</td>    <th>                     </th>     <td> </td>   \n",
       "</tr>\n",
       "</table>\n",
       "<table class=\"simpletable\">\n",
       "<tr>\n",
       "              <td></td>                 <th>coef</th>     <th>std err</th>      <th>t</th>      <th>P>|t|</th>  <th>[0.025</th>    <th>0.975]</th>  \n",
       "</tr>\n",
       "<tr>\n",
       "  <th>Intercept</th>                 <td>    7.0507</td> <td>    0.056</td> <td>  126.769</td> <td> 0.000</td> <td>    6.925</td> <td>    7.177</td>\n",
       "</tr>\n",
       "<tr>\n",
       "  <th>C(country, Sum)[S.Canada]</th> <td>    0.3181</td> <td>    0.079</td> <td>    4.045</td> <td> 0.003</td> <td>    0.140</td> <td>    0.496</td>\n",
       "</tr>\n",
       "<tr>\n",
       "  <th>C(country, Sum)[S.Mexico]</th> <td>   -0.2929</td> <td>    0.079</td> <td>   -3.724</td> <td> 0.005</td> <td>   -0.471</td> <td>   -0.115</td>\n",
       "</tr>\n",
       "</table>\n",
       "<table class=\"simpletable\">\n",
       "<tr>\n",
       "  <th>Omnibus:</th>       <td> 6.533</td> <th>  Durbin-Watson:     </th> <td>   1.796</td>\n",
       "</tr>\n",
       "<tr>\n",
       "  <th>Prob(Omnibus):</th> <td> 0.038</td> <th>  Jarque-Bera (JB):  </th> <td>   2.715</td>\n",
       "</tr>\n",
       "<tr>\n",
       "  <th>Skew:</th>          <td> 0.937</td> <th>  Prob(JB):          </th> <td>   0.257</td>\n",
       "</tr>\n",
       "<tr>\n",
       "  <th>Kurtosis:</th>      <td> 4.384</td> <th>  Cond. No.          </th> <td>    1.73</td>\n",
       "</tr>\n",
       "</table><br/><br/>Warnings:<br/>[1] Standard Errors assume that the covariance matrix of the errors is correctly specified."
      ],
      "text/plain": [
       "<class 'statsmodels.iolib.summary.Summary'>\n",
       "\"\"\"\n",
       "                            OLS Regression Results                            \n",
       "==============================================================================\n",
       "Dep. Variable:        happiness_score   R-squared:                       0.692\n",
       "Model:                            OLS   Adj. R-squared:                  0.624\n",
       "Method:                 Least Squares   F-statistic:                     10.11\n",
       "Date:                Mon, 24 Feb 2020   Prob (F-statistic):            0.00499\n",
       "Time:                        16:14:34   Log-Likelihood:                 4.4602\n",
       "No. Observations:                  12   AIC:                            -2.920\n",
       "Df Residuals:                       9   BIC:                            -1.466\n",
       "Df Model:                           2                                         \n",
       "Covariance Type:            nonrobust                                         \n",
       "=============================================================================================\n",
       "                                coef    std err          t      P>|t|      [0.025      0.975]\n",
       "---------------------------------------------------------------------------------------------\n",
       "Intercept                     7.0507      0.056    126.769      0.000       6.925       7.177\n",
       "C(country, Sum)[S.Canada]     0.3181      0.079      4.045      0.003       0.140       0.496\n",
       "C(country, Sum)[S.Mexico]    -0.2929      0.079     -3.724      0.005      -0.471      -0.115\n",
       "==============================================================================\n",
       "Omnibus:                        6.533   Durbin-Watson:                   1.796\n",
       "Prob(Omnibus):                  0.038   Jarque-Bera (JB):                2.715\n",
       "Skew:                           0.937   Prob(JB):                        0.257\n",
       "Kurtosis:                       4.384   Cond. No.                         1.73\n",
       "==============================================================================\n",
       "\n",
       "Warnings:\n",
       "[1] Standard Errors assume that the covariance matrix of the errors is correctly specified.\n",
       "\"\"\""
      ]
     },
     "execution_count": 232,
     "metadata": {},
     "output_type": "execute_result"
    }
   ],
   "source": [
    "from patsy.contrasts import Sum\n",
    "\n",
    "levels = [1,2,3]\n",
    "contrast = Sum().code_without_intercept(levels)\n",
    "\n",
    "print(contrast.matrix)\n",
    "\n",
    "smf.ols('happiness_score ~ C(country, Sum)', data = nafta).fit().summary()"
   ]
  },
  {
   "cell_type": "markdown",
   "metadata": {},
   "source": [
    "\n",
    "## Extracting Output\n",
    "\n",
    "The better you get at modeling, the more often you are going to need to get at certain parts of the model output easily.  For example, we can extract the coefficients, residuals, model data and other parts from standard linear model objects from a statsmodels object.\n",
    "\n",
    "\n",
    "Why would you want to do this?  A simple example would be to compare effects across different settings. We can collect the values, put them in a data frame, and then to a table or visualization."
   ]
  },
  {
   "cell_type": "markdown",
   "metadata": {},
   "source": [
    "Typical modeling methods/attributes you might want to use:\n",
    "\n",
    "- **summary**: print results in a legible way\n",
    "- **predict**: make predictions, possibly on new data\n",
    "- **conf_int**: get confidence intervals for parameters\n",
    "- **params**: extract coefficients\n",
    "- **fittedvalues**: extract fitted values\n",
    "- **resid**: extract residuals\n",
    "- **aic**: extract AIC\n",
    "- **rsquared_adj**: adjusted R**2\n",
    "- **mse_resid**: mean squared error residual"
   ]
  },
  {
   "cell_type": "code",
   "execution_count": 239,
   "metadata": {},
   "outputs": [
    {
     "data": {
      "text/plain": [
       "788.2967012572149"
      ]
     },
     "execution_count": 239,
     "metadata": {},
     "output_type": "execute_result"
    }
   ],
   "source": [
    "happy_model_base.aic"
   ]
  },
  {
   "cell_type": "code",
   "execution_count": 243,
   "metadata": {},
   "outputs": [
    {
     "data": {
      "text/plain": [
       "0    3.838179\n",
       "1    3.959046\n",
       "2    3.928180\n",
       "3    4.004129\n",
       "4    4.171624\n",
       "dtype: float64"
      ]
     },
     "execution_count": 243,
     "metadata": {},
     "output_type": "execute_result"
    }
   ],
   "source": [
    "happy_model_base.predict(happy[:5])"
   ]
  },
  {
   "cell_type": "code",
   "execution_count": 244,
   "metadata": {
    "scrolled": true
   },
   "outputs": [
    {
     "data": {
      "text/plain": [
       "0.3947254111322418"
      ]
     },
     "execution_count": 244,
     "metadata": {},
     "output_type": "execute_result"
    }
   ],
   "source": [
    "happy_model_base.mse_resid"
   ]
  },
  {
   "cell_type": "markdown",
   "metadata": {},
   "source": [
    "## Visualization"
   ]
  },
  {
   "cell_type": "markdown",
   "metadata": {},
   "source": [
    "Python and/or statsmodels doesn't have a lot going for visualizations of models unfortunately, at least not that don't expect you \n",
    "https://www.statsmodels.org/devel/user-guide.html#regression-and-linear-models"
   ]
  },
  {
   "cell_type": "code",
   "execution_count": 274,
   "metadata": {},
   "outputs": [
    {
     "data": {
      "image/png": "[encoded data removed]",
      "text/plain": [
       "<Figure size 432x288 with 1 Axes>"
      ]
     },
     "execution_count": 274,
     "metadata": {},
     "output_type": "execute_result"
    },
    {
     "data": {
      "image/png": "[encoded data removed]",
      "text/plain": [
       "<Figure size 432x288 with 1 Axes>"
      ]
     },
     "metadata": {
      "needs_background": "light"
     },
     "output_type": "display_data"
    }
   ],
   "source": [
    "sm.graphics.plot_fit(happy_model_base, 'generosity')"
   ]
  },
  {
   "cell_type": "code",
   "execution_count": 275,
   "metadata": {},
   "outputs": [
    {
     "ename": "TypeError",
     "evalue": "plot_partregress() missing 1 required positional argument: 'exog_others'",
     "output_type": "error",
     "traceback": [
      "\u001b[0;31m---------------------------------------------------------------------------\u001b[0m",
      "\u001b[0;31mTypeError\u001b[0m                                 Traceback (most recent call last)",
      "\u001b[0;32m<ipython-input-275-2edbd2283412>\u001b[0m in \u001b[0;36m<module>\u001b[0;34m\u001b[0m\n\u001b[0;32m----> 1\u001b[0;31m \u001b[0msm\u001b[0m\u001b[0;34m.\u001b[0m\u001b[0mgraphics\u001b[0m\u001b[0;34m.\u001b[0m\u001b[0mplot_partregress\u001b[0m\u001b[0;34m(\u001b[0m\u001b[0mhappy_model_base\u001b[0m\u001b[0;34m,\u001b[0m \u001b[0;34m'generosity'\u001b[0m\u001b[0;34m)\u001b[0m\u001b[0;34m\u001b[0m\u001b[0;34m\u001b[0m\u001b[0m\n\u001b[0m",
      "\u001b[0;31mTypeError\u001b[0m: plot_partregress() missing 1 required positional argument: 'exog_others'"
     ]
    }
   ],
   "source": [
    "sm.graphics.plot_partregress(happy_model_base, 'generosity')"
   ]
  },
  {
   "cell_type": "markdown",
   "metadata": {},
   "source": [
    "## Extensions to the Linear Model"
   ]
  },
  {
   "cell_type": "markdown",
   "metadata": {},
   "source": [
    "### Different types of targets\n",
    "\n",
    "In many data situations, we do not have a continuous numeric target variable, or may want to use a different distribution to get a better fit, or adhere to some theoretical perspective.  For example, count data is not continuous and often notably skewed, so assuming a normal symmetric distribution may not work as well. From a data generating perspective we can use the Poisson distribution for the target variable instead.  \n",
    "\n",
    "$$\\ln{\\mu} =  X\\beta$$\n",
    "\n",
    "$$\\mu = e^{X\\beta}$$\n",
    "\n",
    "$$y \\sim \\mathcal{Pois}(\\mu)$$\n",
    "\n",
    "Conceptually nothing has really changed from what we were doing with the standard linear model, except for the distribution.  We still have a mean function determined by our predictors, and this is what we're typically mainly interested in from a theoretical perspective.  We do have an added step, a transformation of the mean (now usually called the *linear predictor*).  Poisson naturally works with the log of the target, but rather than do that explicitly, we instead exponentiate the linear predictor.  The *link function*, which is the natural log in this setting, has a corresponding  *inverse link* (or mean function)- exponentiation.\n",
    "\n",
    "In code we can demonstrate this as follows similar to how we did before"
   ]
  },
  {
   "cell_type": "code",
   "execution_count": 254,
   "metadata": {},
   "outputs": [
    {
     "data": {
      "text/html": [
       "<div>\n",
       "<style scoped>\n",
       "    .dataframe tbody tr th:only-of-type {\n",
       "        vertical-align: middle;\n",
       "    }\n",
       "\n",
       "    .dataframe tbody tr th {\n",
       "        vertical-align: top;\n",
       "    }\n",
       "\n",
       "    .dataframe thead th {\n",
       "        text-align: right;\n",
       "    }\n",
       "</style>\n",
       "<table border=\"1\" class=\"dataframe\">\n",
       "  <thead>\n",
       "    <tr style=\"text-align: right;\">\n",
       "      <th></th>\n",
       "      <th>y</th>\n",
       "      <th>x</th>\n",
       "    </tr>\n",
       "  </thead>\n",
       "  <tbody>\n",
       "    <tr>\n",
       "      <td>0</td>\n",
       "      <td>2</td>\n",
       "      <td>-1.085631</td>\n",
       "    </tr>\n",
       "    <tr>\n",
       "      <td>1</td>\n",
       "      <td>23</td>\n",
       "      <td>0.997345</td>\n",
       "    </tr>\n",
       "    <tr>\n",
       "      <td>2</td>\n",
       "      <td>10</td>\n",
       "      <td>0.282978</td>\n",
       "    </tr>\n",
       "    <tr>\n",
       "      <td>3</td>\n",
       "      <td>2</td>\n",
       "      <td>-1.506295</td>\n",
       "    </tr>\n",
       "    <tr>\n",
       "      <td>4</td>\n",
       "      <td>1</td>\n",
       "      <td>-0.578600</td>\n",
       "    </tr>\n",
       "  </tbody>\n",
       "</table>\n",
       "</div>"
      ],
      "text/plain": [
       "    y         x\n",
       "0   2 -1.085631\n",
       "1  23  0.997345\n",
       "2  10  0.282978\n",
       "3   2 -1.506295\n",
       "4   1 -0.578600"
      ]
     },
     "execution_count": 254,
     "metadata": {},
     "output_type": "execute_result"
    }
   ],
   "source": [
    "np.random.seed(123)                 # for reproducibility\n",
    "N = 1000                          # sample size\n",
    "beta = [2, 1]                    # the true coefficient values\n",
    "x = np.random.normal(size = N)                      # a single predictor variable\n",
    "mu = np.exp(beta[0] + beta[1]*x)     # the linear predictor\n",
    "y = np.random.poisson(size = N, lam = mu)         # the target variable lambda = mean\n",
    "\n",
    "df = pd.DataFrame({'y': y, 'x':x})\n",
    "df.head()"
   ]
  },
  {
   "cell_type": "code",
   "execution_count": 259,
   "metadata": {},
   "outputs": [
    {
     "data": {
      "text/html": [
       "<table class=\"simpletable\">\n",
       "<caption>Generalized Linear Model Regression Results</caption>\n",
       "<tr>\n",
       "  <th>Dep. Variable:</th>           <td>y</td>        <th>  No. Observations:  </th>  <td>  1000</td> \n",
       "</tr>\n",
       "<tr>\n",
       "  <th>Model:</th>                  <td>GLM</td>       <th>  Df Residuals:      </th>  <td>   998</td> \n",
       "</tr>\n",
       "<tr>\n",
       "  <th>Model Family:</th>         <td>Poisson</td>     <th>  Df Model:          </th>  <td>     1</td> \n",
       "</tr>\n",
       "<tr>\n",
       "  <th>Link Function:</th>          <td>log</td>       <th>  Scale:             </th> <td>  1.0000</td>\n",
       "</tr>\n",
       "<tr>\n",
       "  <th>Method:</th>                <td>IRLS</td>       <th>  Log-Likelihood:    </th> <td> -2389.9</td>\n",
       "</tr>\n",
       "<tr>\n",
       "  <th>Date:</th>            <td>Mon, 24 Feb 2020</td> <th>  Deviance:          </th> <td>  1066.3</td>\n",
       "</tr>\n",
       "<tr>\n",
       "  <th>Time:</th>                <td>16:35:39</td>     <th>  Pearson chi2:      </th> <td>1.03e+03</td>\n",
       "</tr>\n",
       "<tr>\n",
       "  <th>No. Iterations:</th>          <td>5</td>        <th>                     </th>     <td> </td>   \n",
       "</tr>\n",
       "<tr>\n",
       "  <th>Covariance Type:</th>     <td>nonrobust</td>    <th>                     </th>     <td> </td>   \n",
       "</tr>\n",
       "</table>\n",
       "<table class=\"simpletable\">\n",
       "<tr>\n",
       "      <td></td>         <th>coef</th>     <th>std err</th>      <th>z</th>      <th>P>|z|</th>  <th>[0.025</th>    <th>0.975]</th>  \n",
       "</tr>\n",
       "<tr>\n",
       "  <th>Intercept</th> <td>    2.0028</td> <td>    0.013</td> <td>  156.789</td> <td> 0.000</td> <td>    1.978</td> <td>    2.028</td>\n",
       "</tr>\n",
       "<tr>\n",
       "  <th>x</th>         <td>    1.0027</td> <td>    0.009</td> <td>  108.427</td> <td> 0.000</td> <td>    0.985</td> <td>    1.021</td>\n",
       "</tr>\n",
       "</table>"
      ],
      "text/plain": [
       "<class 'statsmodels.iolib.summary.Summary'>\n",
       "\"\"\"\n",
       "                 Generalized Linear Model Regression Results                  \n",
       "==============================================================================\n",
       "Dep. Variable:                      y   No. Observations:                 1000\n",
       "Model:                            GLM   Df Residuals:                      998\n",
       "Model Family:                 Poisson   Df Model:                            1\n",
       "Link Function:                    log   Scale:                          1.0000\n",
       "Method:                          IRLS   Log-Likelihood:                -2389.9\n",
       "Date:                Mon, 24 Feb 2020   Deviance:                       1066.3\n",
       "Time:                        16:35:39   Pearson chi2:                 1.03e+03\n",
       "No. Iterations:                     5                                         \n",
       "Covariance Type:            nonrobust                                         \n",
       "==============================================================================\n",
       "                 coef    std err          z      P>|z|      [0.025      0.975]\n",
       "------------------------------------------------------------------------------\n",
       "Intercept      2.0028      0.013    156.789      0.000       1.978       2.028\n",
       "x              1.0027      0.009    108.427      0.000       0.985       1.021\n",
       "==============================================================================\n",
       "\"\"\""
      ]
     },
     "execution_count": 259,
     "metadata": {},
     "output_type": "execute_result"
    }
   ],
   "source": [
    "smf.glm('y ~ x', data = df, family = sm.families.Poisson()).fit().summary()"
   ]
  },
  {
   "cell_type": "markdown",
   "metadata": {},
   "source": [
    "A very common setting is the case where our target variable takes on only two values- yes vs. no, alive vs. dead, etc.  The most common model used in such settings is the logistic regression model.  In this case, it will have a different link to go with a different distribution.\n",
    "\n",
    "$$\\ln{\\frac{\\mu}{1-\\mu}} =  X\\beta$$\n",
    "\n",
    "$$\\mu = \\frac{1}{1+e^{-X\\beta}}$$\n",
    "\n",
    "$$y \\sim \\mathcal{Binom}(\\mathrm{prob}=\\mu, \\mathrm{size} = 1)$$\n",
    "\n",
    "\n",
    "Here our link function is called the *logit*, and it's inverse takes our linear predictor and puts it on the probability scale.\n",
    "\n",
    "Again, some code can help drive this home.\n"
   ]
  },
  {
   "cell_type": "code",
   "execution_count": 266,
   "metadata": {},
   "outputs": [
    {
     "data": {
      "text/html": [
       "<div>\n",
       "<style scoped>\n",
       "    .dataframe tbody tr th:only-of-type {\n",
       "        vertical-align: middle;\n",
       "    }\n",
       "\n",
       "    .dataframe tbody tr th {\n",
       "        vertical-align: top;\n",
       "    }\n",
       "\n",
       "    .dataframe thead th {\n",
       "        text-align: right;\n",
       "    }\n",
       "</style>\n",
       "<table border=\"1\" class=\"dataframe\">\n",
       "  <thead>\n",
       "    <tr style=\"text-align: right;\">\n",
       "      <th></th>\n",
       "      <th>y</th>\n",
       "      <th>x</th>\n",
       "    </tr>\n",
       "  </thead>\n",
       "  <tbody>\n",
       "    <tr>\n",
       "      <td>0</td>\n",
       "      <td>1</td>\n",
       "      <td>-1.085631</td>\n",
       "    </tr>\n",
       "    <tr>\n",
       "      <td>1</td>\n",
       "      <td>1</td>\n",
       "      <td>0.997345</td>\n",
       "    </tr>\n",
       "    <tr>\n",
       "      <td>2</td>\n",
       "      <td>0</td>\n",
       "      <td>0.282978</td>\n",
       "    </tr>\n",
       "    <tr>\n",
       "      <td>3</td>\n",
       "      <td>1</td>\n",
       "      <td>-1.506295</td>\n",
       "    </tr>\n",
       "    <tr>\n",
       "      <td>4</td>\n",
       "      <td>1</td>\n",
       "      <td>-0.578600</td>\n",
       "    </tr>\n",
       "  </tbody>\n",
       "</table>\n",
       "</div>"
      ],
      "text/plain": [
       "   y         x\n",
       "0  1 -1.085631\n",
       "1  1  0.997345\n",
       "2  0  0.282978\n",
       "3  1 -1.506295\n",
       "4  1 -0.578600"
      ]
     },
     "execution_count": 266,
     "metadata": {},
     "output_type": "execute_result"
    }
   ],
   "source": [
    "mu = 1 / (1 + np.exp(-(beta[0] + beta[1]*x)))\n",
    "y = np.random.binomial(size = N, n = 1, p = mu)\n",
    "\n",
    "df = pd.DataFrame({'y': y, 'x': x})\n",
    "df.head()"
   ]
  },
  {
   "cell_type": "code",
   "execution_count": 270,
   "metadata": {},
   "outputs": [
    {
     "data": {
      "text/html": [
       "<table class=\"simpletable\">\n",
       "<caption>Generalized Linear Model Regression Results</caption>\n",
       "<tr>\n",
       "  <th>Dep. Variable:</th>           <td>y</td>        <th>  No. Observations:  </th>  <td>  1000</td> \n",
       "</tr>\n",
       "<tr>\n",
       "  <th>Model:</th>                  <td>GLM</td>       <th>  Df Residuals:      </th>  <td>   998</td> \n",
       "</tr>\n",
       "<tr>\n",
       "  <th>Model Family:</th>        <td>Binomial</td>     <th>  Df Model:          </th>  <td>     1</td> \n",
       "</tr>\n",
       "<tr>\n",
       "  <th>Link Function:</th>         <td>logit</td>      <th>  Scale:             </th> <td>  1.0000</td>\n",
       "</tr>\n",
       "<tr>\n",
       "  <th>Method:</th>                <td>IRLS</td>       <th>  Log-Likelihood:    </th> <td> -379.29</td>\n",
       "</tr>\n",
       "<tr>\n",
       "  <th>Date:</th>            <td>Mon, 24 Feb 2020</td> <th>  Deviance:          </th> <td>  758.57</td>\n",
       "</tr>\n",
       "<tr>\n",
       "  <th>Time:</th>                <td>16:40:19</td>     <th>  Pearson chi2:      </th>  <td>  925.</td> \n",
       "</tr>\n",
       "<tr>\n",
       "  <th>No. Iterations:</th>          <td>6</td>        <th>                     </th>     <td> </td>   \n",
       "</tr>\n",
       "<tr>\n",
       "  <th>Covariance Type:</th>     <td>nonrobust</td>    <th>                     </th>     <td> </td>   \n",
       "</tr>\n",
       "</table>\n",
       "<table class=\"simpletable\">\n",
       "<tr>\n",
       "      <td></td>         <th>coef</th>     <th>std err</th>      <th>z</th>      <th>P>|z|</th>  <th>[0.025</th>    <th>0.975]</th>  \n",
       "</tr>\n",
       "<tr>\n",
       "  <th>Intercept</th> <td>    2.0321</td> <td>    0.113</td> <td>   17.934</td> <td> 0.000</td> <td>    1.810</td> <td>    2.254</td>\n",
       "</tr>\n",
       "<tr>\n",
       "  <th>x</th>         <td>    1.0785</td> <td>    0.107</td> <td>   10.074</td> <td> 0.000</td> <td>    0.869</td> <td>    1.288</td>\n",
       "</tr>\n",
       "</table>"
      ],
      "text/plain": [
       "<class 'statsmodels.iolib.summary.Summary'>\n",
       "\"\"\"\n",
       "                 Generalized Linear Model Regression Results                  \n",
       "==============================================================================\n",
       "Dep. Variable:                      y   No. Observations:                 1000\n",
       "Model:                            GLM   Df Residuals:                      998\n",
       "Model Family:                Binomial   Df Model:                            1\n",
       "Link Function:                  logit   Scale:                          1.0000\n",
       "Method:                          IRLS   Log-Likelihood:                -379.29\n",
       "Date:                Mon, 24 Feb 2020   Deviance:                       758.57\n",
       "Time:                        16:40:19   Pearson chi2:                     925.\n",
       "No. Iterations:                     6                                         \n",
       "Covariance Type:            nonrobust                                         \n",
       "==============================================================================\n",
       "                 coef    std err          z      P>|z|      [0.025      0.975]\n",
       "------------------------------------------------------------------------------\n",
       "Intercept      2.0321      0.113     17.934      0.000       1.810       2.254\n",
       "x              1.0785      0.107     10.074      0.000       0.869       1.288\n",
       "==============================================================================\n",
       "\"\"\""
      ]
     },
     "execution_count": 270,
     "metadata": {},
     "output_type": "execute_result"
    }
   ],
   "source": [
    "smf.glm('y ~ x', data = df, family = sm.families.Binomial()).fit().summary()"
   ]
  },
  {
   "cell_type": "markdown",
   "metadata": {},
   "source": [
    "You'll have noticed that when we fit these models we used `glm` instead of `ols`. The normal linear model is a special case of *generalized linear models*, which includes a specific class of distributions- normal, poisson, binomial, gamma, beta and more- collectively referred to as the [exponential family](https://en.wikipedia.org/wiki/Exponential_family).  While this family can cover a lot of ground, you do not have to restrict yourself to it, and many R modeling packages will provide easy access to more.  The main point is that you have tools to deal with continuous, binary, count, ordinal, and other types of data.  Furthermore, not much necessarily changes conceptually from model to model besides the link function and/or distribution."
   ]
  },
  {
   "cell_type": "markdown",
   "metadata": {},
   "source": [
    "### Correlated data\n",
    "\n",
    "Often in standard regression modeling situations we have data that is correlated, like when we observe multiple observations for individuals (e.g. longitudinal studies), or observations are clustered within geographic units.  There are many ways to analyze all kinds of correlated data in the form of clustered data, time series, spatial data and similar. In terms of understanding the mean function and data generating distribution for our target variable, as we did in our previous models, not much changes.  However, we will want to utilize estimation techniques that take this correlation into account.  Examples of such models include:\n",
    "\n",
    "- Mixed models (e.g. random intercepts, 'multilevel' models)\n",
    "- Time series models (autoregressive)\n",
    "- Spatial models (e.g. conditional autoregressive)\n",
    "\n",
    "As demonstration is beyond the scope of this document, the main point here is awareness. But see the statsmodels on [mixed models](https://www.statsmodels.org/stable/examples/notebooks/generated/mixed_lm_example.html) and [many others](https://www.statsmodels.org/devel/user-guide.html#regression-and-linear-models)."
   ]
  },
  {
   "cell_type": "code",
   "execution_count": null,
   "metadata": {},
   "outputs": [],
   "source": []
  }
 ],
 "metadata": {
  "kernelspec": {
   "display_name": "Python 3",
   "language": "python",
   "name": "python3"
  },
  "language_info": {
   "codemirror_mode": {
    "name": "ipython",
    "version": 3
   },
   "file_extension": ".py",
   "mimetype": "text/x-python",
   "name": "python",
   "nbconvert_exporter": "python",
   "pygments_lexer": "ipython3",
   "version": "3.7.4"
  }
 },
 "nbformat": 4,
 "nbformat_minor": 2
}

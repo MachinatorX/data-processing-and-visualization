{
 "cells": [
  {
   "cell_type": "markdown",
   "metadata": {},
   "source": [
    "This document is a Python exploration of this R-based document: http://m-clark.github.io/data-processing-and-visualization/.  It is intended for those new to modeling and related concepts.  Code is *not* optimized for anything but learning.  In addition, all the content is located with the main document, not here, so many sections may not be included.  I only focus on reproducing the code chunks and providing some useful context."
   ]
  },
  {
   "cell_type": "code",
   "execution_count": 1,
   "metadata": {},
   "outputs": [],
   "source": [
    "import statsmodels.api as sm\n",
    "import statsmodels.formula.api as smf\n",
    "import pandas as pd\n",
    "import numpy as np"
   ]
  },
  {
   "cell_type": "code",
   "execution_count": 6,
   "metadata": {},
   "outputs": [],
   "source": [
    "from sklearn.model_selection import train_test_split\n",
    "# from sklearn import datasets\n",
    "from sklearn.ensemble import RandomForestRegressor\n",
    "# from sklearn.ensemble import GradientBoostingRegressor"
   ]
  },
  {
   "cell_type": "code",
   "execution_count": 7,
   "metadata": {},
   "outputs": [
    {
     "data": {
      "text/html": [
       "<div>\n",
       "<style scoped>\n",
       "    .dataframe tbody tr th:only-of-type {\n",
       "        vertical-align: middle;\n",
       "    }\n",
       "\n",
       "    .dataframe tbody tr th {\n",
       "        vertical-align: top;\n",
       "    }\n",
       "\n",
       "    .dataframe thead th {\n",
       "        text-align: right;\n",
       "    }\n",
       "</style>\n",
       "<table border=\"1\" class=\"dataframe\">\n",
       "  <thead>\n",
       "    <tr style=\"text-align: right;\">\n",
       "      <th></th>\n",
       "      <th>country</th>\n",
       "      <th>year</th>\n",
       "      <th>happiness_score</th>\n",
       "      <th>democratic_quality</th>\n",
       "      <th>generosity</th>\n",
       "      <th>healthy_life_expectancy_at_birth</th>\n",
       "      <th>log_gdp_per_capita</th>\n",
       "    </tr>\n",
       "  </thead>\n",
       "  <tbody>\n",
       "    <tr>\n",
       "      <td>7</td>\n",
       "      <td>Afghanistan</td>\n",
       "      <td>10</td>\n",
       "      <td>-1.625550</td>\n",
       "      <td>-1.950587</td>\n",
       "      <td>0.545034</td>\n",
       "      <td>-1.307413</td>\n",
       "      <td>7.500539</td>\n",
       "    </tr>\n",
       "    <tr>\n",
       "      <td>8</td>\n",
       "      <td>Afghanistan</td>\n",
       "      <td>11</td>\n",
       "      <td>-1.815967</td>\n",
       "      <td>-1.963219</td>\n",
       "      <td>0.314034</td>\n",
       "      <td>-1.333794</td>\n",
       "      <td>7.497038</td>\n",
       "    </tr>\n",
       "    <tr>\n",
       "      <td>9</td>\n",
       "      <td>Afghanistan</td>\n",
       "      <td>12</td>\n",
       "      <td>-1.431590</td>\n",
       "      <td>-1.998775</td>\n",
       "      <td>-0.687488</td>\n",
       "      <td>-1.360174</td>\n",
       "      <td>7.497755</td>\n",
       "    </tr>\n",
       "    <tr>\n",
       "      <td>18</td>\n",
       "      <td>Albania</td>\n",
       "      <td>10</td>\n",
       "      <td>-0.399795</td>\n",
       "      <td>0.442664</td>\n",
       "      <td>-0.517345</td>\n",
       "      <td>0.618363</td>\n",
       "      <td>9.302960</td>\n",
       "    </tr>\n",
       "    <tr>\n",
       "      <td>19</td>\n",
       "      <td>Albania</td>\n",
       "      <td>11</td>\n",
       "      <td>-0.669036</td>\n",
       "      <td>0.449130</td>\n",
       "      <td>-0.127154</td>\n",
       "      <td>0.657933</td>\n",
       "      <td>9.337532</td>\n",
       "    </tr>\n",
       "  </tbody>\n",
       "</table>\n",
       "</div>"
      ],
      "text/plain": [
       "        country  year  happiness_score  democratic_quality  generosity  \\\n",
       "7   Afghanistan    10        -1.625550           -1.950587    0.545034   \n",
       "8   Afghanistan    11        -1.815967           -1.963219    0.314034   \n",
       "9   Afghanistan    12        -1.431590           -1.998775   -0.687488   \n",
       "18      Albania    10        -0.399795            0.442664   -0.517345   \n",
       "19      Albania    11        -0.669036            0.449130   -0.127154   \n",
       "\n",
       "    healthy_life_expectancy_at_birth  log_gdp_per_capita  \n",
       "7                          -1.307413            7.500539  \n",
       "8                          -1.333794            7.497038  \n",
       "9                          -1.360174            7.497755  \n",
       "18                          0.618363            9.302960  \n",
       "19                          0.657933            9.337532  "
      ]
     },
     "execution_count": 7,
     "metadata": {},
     "output_type": "execute_result"
    }
   ],
   "source": [
    "happy = pd.read_csv('../data/world_hapiness.csv')\n",
    "\n",
    "def scale(x):\n",
    "    return((x - np.nanmean(x, axis=0))/np.nanstd(x, axis=0))\n",
    "\n",
    "happy_processed = happy[[\n",
    "    'country', \n",
    "    'year', \n",
    "    'happiness_score',\n",
    "    'democratic_quality',\n",
    "    'generosity',\n",
    "    'healthy_life_expectancy_at_birth',\n",
    "    'log_gdp_per_capita'\n",
    "]].apply(\n",
    "    lambda x: scale(x)\n",
    "    if x.name in [\n",
    "        'happiness_score',\n",
    "        'democratic_quality',\n",
    "        'generosity',\n",
    "        'healthy_life_expectancy_at_birth',] \n",
    "    else x\n",
    ").assign(\n",
    "    year = happy.year - np.min(happy.year)\n",
    ").dropna()\n",
    "\n",
    "happy_processed.head()"
   ]
  },
  {
   "cell_type": "markdown",
   "metadata": {},
   "source": [
    "# Machine Learning Overview"
   ]
  },
  {
   "cell_type": "markdown",
   "metadata": {},
   "source": [
    "## Concepts"
   ]
  },
  {
   "cell_type": "markdown",
   "metadata": {},
   "source": [
    "See the [main document](http://m-clark.github.io/data-processing-and-visualization/ml.html)"
   ]
  },
  {
   "cell_type": "markdown",
   "metadata": {},
   "source": [
    "## Techniques"
   ]
  },
  {
   "cell_type": "markdown",
   "metadata": {},
   "source": [
    "### Regularized Regression"
   ]
  },
  {
   "cell_type": "code",
   "execution_count": 12,
   "metadata": {},
   "outputs": [
    {
     "data": {
      "text/plain": [
       "Intercept            -2.198226\n",
       "democratic_quality    0.419285\n",
       "generosity            0.137807\n",
       "log_gdp_per_capita    0.238840\n",
       "dtype: float64"
      ]
     },
     "execution_count": 12,
     "metadata": {},
     "output_type": "execute_result"
    }
   ],
   "source": [
    "happy_model_base = sm.OLS.from_formula(\n",
    "  'happiness_score ~ democratic_quality + generosity + log_gdp_per_capita',\n",
    "  data = happy_processed\n",
    ").fit_regularized(L1_wt = .25)\n",
    "\n",
    "happy_model_base.params"
   ]
  },
  {
   "cell_type": "code",
   "execution_count": null,
   "metadata": {},
   "outputs": [],
   "source": []
  },
  {
   "cell_type": "code",
   "execution_count": null,
   "metadata": {},
   "outputs": [],
   "source": []
  },
  {
   "cell_type": "code",
   "execution_count": null,
   "metadata": {},
   "outputs": [],
   "source": []
  },
  {
   "cell_type": "code",
   "execution_count": null,
   "metadata": {},
   "outputs": [],
   "source": []
  },
  {
   "cell_type": "markdown",
   "metadata": {},
   "source": [
    "### Random Forests"
   ]
  },
  {
   "cell_type": "code",
   "execution_count": null,
   "metadata": {},
   "outputs": [],
   "source": []
  },
  {
   "cell_type": "code",
   "execution_count": null,
   "metadata": {},
   "outputs": [],
   "source": []
  },
  {
   "cell_type": "code",
   "execution_count": null,
   "metadata": {},
   "outputs": [],
   "source": []
  },
  {
   "cell_type": "markdown",
   "metadata": {},
   "source": [
    "### Neural Nets"
   ]
  },
  {
   "cell_type": "code",
   "execution_count": null,
   "metadata": {},
   "outputs": [],
   "source": []
  },
  {
   "cell_type": "code",
   "execution_count": null,
   "metadata": {},
   "outputs": [],
   "source": []
  },
  {
   "cell_type": "code",
   "execution_count": null,
   "metadata": {},
   "outputs": [],
   "source": []
  },
  {
   "cell_type": "markdown",
   "metadata": {},
   "source": [
    "## Interpreting the Black Box"
   ]
  },
  {
   "cell_type": "markdown",
   "metadata": {},
   "source": []
  },
  {
   "cell_type": "code",
   "execution_count": null,
   "metadata": {},
   "outputs": [],
   "source": []
  },
  {
   "cell_type": "markdown",
   "metadata": {},
   "source": [
    "## Summary"
   ]
  },
  {
   "cell_type": "markdown",
   "metadata": {},
   "source": []
  }
 ],
 "metadata": {
  "kernelspec": {
   "display_name": "Python 3",
   "language": "python",
   "name": "python3"
  },
  "language_info": {
   "codemirror_mode": {
    "name": "ipython",
    "version": 3
   },
   "file_extension": ".py",
   "mimetype": "text/x-python",
   "name": "python",
   "nbconvert_exporter": "python",
   "pygments_lexer": "ipython3",
   "version": "3.6.9"
  }
 },
 "nbformat": 4,
 "nbformat_minor": 2
}
